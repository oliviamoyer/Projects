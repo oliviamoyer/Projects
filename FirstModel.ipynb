{
  "nbformat": 4,
  "nbformat_minor": 0,
  "metadata": {
    "colab": {
      "name": "FirstModel.ipynb",
      "provenance": [],
      "collapsed_sections": []
    },
    "kernelspec": {
      "name": "python3",
      "display_name": "Python 3"
    },
    "language_info": {
      "name": "python"
    }
  },
  "cells": [
    {
      "cell_type": "code",
      "metadata": {
        "id": "xYt35UjSNCtn"
      },
      "source": [
        "# Common imports\n",
        "import pandas as pd\n",
        "import numpy as np\n",
        "from textblob import TextBlob\n",
        "import datetime as dt\n",
        "\n",
        "#TensorFlow required imports\n",
        "import tensorflow as tf\n",
        "from tensorflow import keras\n",
        "import pandas as pd\n",
        "import numpy as np\n",
        "\n",
        "#Sklearn modules\n",
        "from sklearn.model_selection import train_test_split\n",
        "from sklearn.preprocessing import StandardScaler, MinMaxScaler\n",
        "from sklearn.model_selection import GridSearchCV\n",
        "from sklearn.linear_model import LinearRegression\n",
        "from sklearn.model_selection import StratifiedShuffleSplit\n",
        "from sklearn.pipeline import Pipeline\n",
        "from sklearn.impute import SimpleImputer\n",
        "from sklearn.preprocessing import OneHotEncoder\n",
        "from sklearn.compose import ColumnTransformer\n",
        "from sklearn.preprocessing import StandardScaler\n",
        "from sklearn.linear_model import Ridge\n",
        "from sklearn.metrics import mean_squared_error, mean_absolute_error\n",
        "\n",
        "# To plot pretty figures\n",
        "import matplotlib as mpl\n",
        "import matplotlib.pyplot as plt"
      ],
      "execution_count": 124,
      "outputs": []
    },
    {
      "cell_type": "code",
      "metadata": {
        "id": "2GmjxxAxPKtU"
      },
      "source": [
        "#function to plot a series as well as the predicted and value to be predicted (if known)\n",
        "def plot_series(series, y=None, y_pred=None):\n",
        "    plt.plot(series, \".-\")\n",
        "    if y is not None:\n",
        "        plt.plot(range(series.shape[0], series.shape[0]+y.shape[0]), y, \"bx-\", markersize=10, label=\"Actual\")\n",
        "    if y_pred is not None:\n",
        "        plt.plot(range(series.shape[0], series.shape[0]+y_pred.shape[0]), y_pred, \"ro-\", label=\"Prediction\")\n",
        "    plt.grid(True)\n",
        "    plt.legend()\n",
        "    plt.show()"
      ],
      "execution_count": 125,
      "outputs": []
    },
    {
      "cell_type": "code",
      "metadata": {
        "id": "9S7fKE_GM7ck"
      },
      "source": [
        "#function to plot actual values vs. predicted values\n",
        "def plot_actual_pred( actual, prediction ):\n",
        "    plt.plot(actual, \".-\", alpha=.6, label=\"Actual\")\n",
        "    plt.plot(prediction, \".-\", alpha=.6, label=\"Prediction\")\n",
        "    plt.grid(True)\n",
        "    plt.legend()\n",
        "    plt.show()"
      ],
      "execution_count": 126,
      "outputs": []
    },
    {
      "cell_type": "code",
      "metadata": {
        "id": "1BG1mRnWOEJz"
      },
      "source": [
        "#function provided that plots the learning curve for neural networks\n",
        "def plot_learning_curve( history ):\n",
        "    pd.DataFrame(history.history).plot(figsize=(8, 5))\n",
        "    plt.grid(True)\n",
        "    ymin, ymax = [], []\n",
        "    for x in history.history.keys():\n",
        "        ymax.append( max(history.history[x]))\n",
        "        ymin.append( min(history.history[x]))\n",
        "    plt.gca().set_ylim(min(ymin), max(ymax))\n",
        "    plt.xlabel(\"EPOCHS\")\n",
        "    plt.show()"
      ],
      "execution_count": 127,
      "outputs": []
    },
    {
      "cell_type": "code",
      "metadata": {
        "id": "SrMsJ5Vp938a"
      },
      "source": [
        "#this is the formula\n",
        "def fix_bins(x):\n",
        "        if x == '23.30-23.59':\n",
        "            x = 47\n",
        "        elif x == '23.00-23.29':\n",
        "            x = 46\n",
        "        elif x == '22.30-22.59':\n",
        "            x = 45       \n",
        "        elif x == '22.00-22.29':\n",
        "            x = 44\n",
        "        elif x == '21.30-21.59':\n",
        "            x = 43\n",
        "        elif x == '21.00-21.29':\n",
        "            x = 42\n",
        "        elif x == '20.30-20.59':\n",
        "            x = 41\n",
        "        elif x == '20.00-20.29':\n",
        "            x = 40\n",
        "        elif x == '19.30-19.59':\n",
        "            x = 39\n",
        "        elif x == '19.00-19.29':\n",
        "            x = 38\n",
        "        elif x == '18.30-18.59':\n",
        "            x = 37\n",
        "        elif x == '18.00-18.29':\n",
        "            x = 36\n",
        "        elif x == '17.30-17.59':\n",
        "            x = 35\n",
        "        elif x == '17.00-17.29':\n",
        "            x = 34\n",
        "        elif x == '16.30-16.59':\n",
        "            x = 33\n",
        "        elif x == '16.00-16.29':\n",
        "            x = 32\n",
        "        elif x == '15.30-15.59':\n",
        "            x = 31\n",
        "        elif x == '15.00-15.29':\n",
        "            x = 30\n",
        "        elif x == '14.30-14.59':\n",
        "            x = 29\n",
        "        elif x == '14.00-14.29':\n",
        "            x = 28\n",
        "        elif x == '13.30-13.59':\n",
        "            x = 27\n",
        "        elif x == '13.00-13.29':\n",
        "                x = 26\n",
        "        elif x == '12.30-12.59':\n",
        "                x = 25\n",
        "        elif x == '12.00-12.29':\n",
        "                x = 24\n",
        "        elif x == '11.30-11.59':\n",
        "                x = 23\n",
        "        elif x == '11.00-11.29':\n",
        "                x = 22\n",
        "        elif x == '10.30-10.59':\n",
        "                x = 21\n",
        "        elif x == '10.00-10.29':\n",
        "                x = 20\n",
        "        elif x == '09.30-09.59':\n",
        "                x = 19\n",
        "        elif x == '09.00-09.29':\n",
        "                x = 18\n",
        "        elif x == '08.30-08.59':\n",
        "                x = 17\n",
        "        elif x == '08.00-08.29':\n",
        "                x = 16\n",
        "        elif x == '07.30-07.59':\n",
        "                x = 15\n",
        "        elif x == '07.00-07.29':\n",
        "                x = 14\n",
        "        elif x == '06.30-06.59':\n",
        "                x = 13\n",
        "        elif x == '06.00-06.29':\n",
        "                x = 12\n",
        "        elif x == '05.30-05.59':\n",
        "                x = 11\n",
        "        elif x == '05.00-05.29':\n",
        "                x = 10\n",
        "        elif x == '04.30-04.59':\n",
        "                x = 9\n",
        "        elif x == '04.00-04.29':\n",
        "                x = 8\n",
        "        elif x == '03.30-03.59':\n",
        "                x = 7\n",
        "        elif x == '03.00-03.29':\n",
        "                x = 6\n",
        "        elif x == '02.30-02.59':\n",
        "                x = 5\n",
        "        elif x == '02.00-02.29':\n",
        "                x = 4\n",
        "        elif x == '01.30-01.59':\n",
        "                x = 3\n",
        "        elif x == '01.00-01.29':\n",
        "                x = 2\n",
        "        elif x == '00.30-00.59':\n",
        "                x = 1\n",
        "        elif x == '00.00-00:29':\n",
        "            x = 0\n",
        "        \n",
        "        return x"
      ],
      "execution_count": 128,
      "outputs": []
    },
    {
      "cell_type": "code",
      "metadata": {
        "id": "xgjjMhc8-b63"
      },
      "source": [
        "data=pd.read_excel('/content/datafinal.xlsx')"
      ],
      "execution_count": 129,
      "outputs": []
    },
    {
      "cell_type": "code",
      "metadata": {
        "colab": {
          "base_uri": "https://localhost:8080/"
        },
        "id": "VlJKsNpLNcwl",
        "outputId": "62edc3f6-60f0-4c24-add3-06c6a7c6eae6"
      },
      "source": [
        "data.info()"
      ],
      "execution_count": 130,
      "outputs": [
        {
          "output_type": "stream",
          "text": [
            "<class 'pandas.core.frame.DataFrame'>\n",
            "RangeIndex: 13314 entries, 0 to 13313\n",
            "Data columns (total 27 columns):\n",
            " #   Column                             Non-Null Count  Dtype         \n",
            "---  ------                             --------------  -----         \n",
            " 0   time_x                             13311 non-null  datetime64[ns]\n",
            " 1   open                               13311 non-null  float64       \n",
            " 2   high                               13311 non-null  float64       \n",
            " 3   low                                13311 non-null  float64       \n",
            " 4   close                              13311 non-null  float64       \n",
            " 5   volume                             13311 non-null  float64       \n",
            " 6   week_day                           13311 non-null  float64       \n",
            " 7   Time                               13311 non-null  object        \n",
            " 8   NYSE:GME: (United States)          13311 non-null  float64       \n",
            " 9   r/WallStreetBets: (United States)  13311 non-null  float64       \n",
            " 10  market_cap                         13311 non-null  float64       \n",
            " 11  date                               13311 non-null  datetime64[ns]\n",
            " 12  30minInterval                      13311 non-null  object        \n",
            " 13  title                              13311 non-null  object        \n",
            " 14  score                              13311 non-null  float64       \n",
            " 15  id                                 13311 non-null  object        \n",
            " 16  url                                13311 non-null  object        \n",
            " 17  comms_num                          13311 non-null  float64       \n",
            " 18  created                            13311 non-null  float64       \n",
            " 19  body                               13311 non-null  object        \n",
            " 20  timestamp                          13308 non-null  datetime64[ns]\n",
            " 21  TitlePolarity                      13308 non-null  float64       \n",
            " 22  TitleSubjectivity                  13308 non-null  float64       \n",
            " 23  BodyPolarity                       13308 non-null  float64       \n",
            " 24  BodySubjectivity                   13308 non-null  float64       \n",
            " 25  time_y                             13308 non-null  object        \n",
            " 26  marketpost                         13308 non-null  float64       \n",
            "dtypes: datetime64[ns](3), float64(17), object(7)\n",
            "memory usage: 2.7+ MB\n"
          ],
          "name": "stdout"
        }
      ]
    },
    {
      "cell_type": "code",
      "metadata": {
        "id": "7218PIrgPASd"
      },
      "source": [
        "data.dropna(inplace=True)"
      ],
      "execution_count": 131,
      "outputs": []
    },
    {
      "cell_type": "code",
      "metadata": {
        "colab": {
          "base_uri": "https://localhost:8080/",
          "height": 673
        },
        "id": "u4dcQhKDNfSC",
        "outputId": "aff8d047-7b2d-4aae-d812-d87ad5216115"
      },
      "source": [
        "data.head()"
      ],
      "execution_count": 132,
      "outputs": [
        {
          "output_type": "execute_result",
          "data": {
            "text/html": [
              "<div>\n",
              "<style scoped>\n",
              "    .dataframe tbody tr th:only-of-type {\n",
              "        vertical-align: middle;\n",
              "    }\n",
              "\n",
              "    .dataframe tbody tr th {\n",
              "        vertical-align: top;\n",
              "    }\n",
              "\n",
              "    .dataframe thead th {\n",
              "        text-align: right;\n",
              "    }\n",
              "</style>\n",
              "<table border=\"1\" class=\"dataframe\">\n",
              "  <thead>\n",
              "    <tr style=\"text-align: right;\">\n",
              "      <th></th>\n",
              "      <th>time_x</th>\n",
              "      <th>open</th>\n",
              "      <th>high</th>\n",
              "      <th>low</th>\n",
              "      <th>close</th>\n",
              "      <th>volume</th>\n",
              "      <th>week_day</th>\n",
              "      <th>Time</th>\n",
              "      <th>NYSE:GME: (United States)</th>\n",
              "      <th>r/WallStreetBets: (United States)</th>\n",
              "      <th>market_cap</th>\n",
              "      <th>date</th>\n",
              "      <th>30minInterval</th>\n",
              "      <th>title</th>\n",
              "      <th>score</th>\n",
              "      <th>id</th>\n",
              "      <th>url</th>\n",
              "      <th>comms_num</th>\n",
              "      <th>created</th>\n",
              "      <th>body</th>\n",
              "      <th>timestamp</th>\n",
              "      <th>TitlePolarity</th>\n",
              "      <th>TitleSubjectivity</th>\n",
              "      <th>BodyPolarity</th>\n",
              "      <th>BodySubjectivity</th>\n",
              "      <th>time_y</th>\n",
              "      <th>marketpost</th>\n",
              "    </tr>\n",
              "  </thead>\n",
              "  <tbody>\n",
              "    <tr>\n",
              "      <th>0</th>\n",
              "      <td>2021-01-28 20:00:00</td>\n",
              "      <td>313.89</td>\n",
              "      <td>327.0</td>\n",
              "      <td>305.99</td>\n",
              "      <td>311.99</td>\n",
              "      <td>314788.0</td>\n",
              "      <td>5.0</td>\n",
              "      <td>20:00:00</td>\n",
              "      <td>100.0</td>\n",
              "      <td>56.0</td>\n",
              "      <td>98210708.12</td>\n",
              "      <td>2021-01-28</td>\n",
              "      <td>20.00-20.29</td>\n",
              "      <td>They're trying to say this was all done by 'Na...</td>\n",
              "      <td>972.0</td>\n",
              "      <td>l6tfyh</td>\n",
              "      <td>https://i.redd.it/37okz5nhu1e61.png</td>\n",
              "      <td>274.0</td>\n",
              "      <td>1.611858e+09</td>\n",
              "      <td>Not Disclosed</td>\n",
              "      <td>2021-01-28 20:21:00</td>\n",
              "      <td>0.00</td>\n",
              "      <td>0.00</td>\n",
              "      <td>0.000000</td>\n",
              "      <td>0.000000</td>\n",
              "      <td>20:21:46</td>\n",
              "      <td>0.0</td>\n",
              "    </tr>\n",
              "    <tr>\n",
              "      <th>1</th>\n",
              "      <td>2021-01-28 20:00:00</td>\n",
              "      <td>313.89</td>\n",
              "      <td>327.0</td>\n",
              "      <td>305.99</td>\n",
              "      <td>311.99</td>\n",
              "      <td>314788.0</td>\n",
              "      <td>5.0</td>\n",
              "      <td>20:00:00</td>\n",
              "      <td>100.0</td>\n",
              "      <td>56.0</td>\n",
              "      <td>98210708.12</td>\n",
              "      <td>2021-01-28</td>\n",
              "      <td>20.00-20.29</td>\n",
              "      <td>My brokerage wants to force close my GME calls</td>\n",
              "      <td>560.0</td>\n",
              "      <td>l6te9s</td>\n",
              "      <td>https://www.reddit.com/r/wallstreetbets/commen...</td>\n",
              "      <td>215.0</td>\n",
              "      <td>1.611858e+09</td>\n",
              "      <td>My brokerage called me and asked me to close m...</td>\n",
              "      <td>2021-01-28 20:18:00</td>\n",
              "      <td>0.20</td>\n",
              "      <td>0.10</td>\n",
              "      <td>0.030202</td>\n",
              "      <td>0.420536</td>\n",
              "      <td>20:18:32</td>\n",
              "      <td>0.0</td>\n",
              "    </tr>\n",
              "    <tr>\n",
              "      <th>2</th>\n",
              "      <td>2021-01-28 20:00:00</td>\n",
              "      <td>313.89</td>\n",
              "      <td>327.0</td>\n",
              "      <td>305.99</td>\n",
              "      <td>311.99</td>\n",
              "      <td>314788.0</td>\n",
              "      <td>5.0</td>\n",
              "      <td>20:00:00</td>\n",
              "      <td>100.0</td>\n",
              "      <td>56.0</td>\n",
              "      <td>98210708.12</td>\n",
              "      <td>2021-01-28</td>\n",
              "      <td>20.00-20.29</td>\n",
              "      <td>Guys i just want to say , i never been more pr...</td>\n",
              "      <td>1452.0</td>\n",
              "      <td>l6tdfc</td>\n",
              "      <td>https://www.reddit.com/r/wallstreetbets/commen...</td>\n",
              "      <td>189.0</td>\n",
              "      <td>1.611858e+09</td>\n",
              "      <td>Not Disclosed</td>\n",
              "      <td>2021-01-28 20:17:00</td>\n",
              "      <td>0.65</td>\n",
              "      <td>0.75</td>\n",
              "      <td>0.000000</td>\n",
              "      <td>0.000000</td>\n",
              "      <td>20:17:02</td>\n",
              "      <td>0.0</td>\n",
              "    </tr>\n",
              "    <tr>\n",
              "      <th>3</th>\n",
              "      <td>2021-01-28 20:00:00</td>\n",
              "      <td>313.89</td>\n",
              "      <td>327.0</td>\n",
              "      <td>305.99</td>\n",
              "      <td>311.99</td>\n",
              "      <td>314788.0</td>\n",
              "      <td>5.0</td>\n",
              "      <td>20:00:00</td>\n",
              "      <td>100.0</td>\n",
              "      <td>56.0</td>\n",
              "      <td>98210708.12</td>\n",
              "      <td>2021-01-28</td>\n",
              "      <td>20.00-20.29</td>\n",
              "      <td>Iacta alea est</td>\n",
              "      <td>133.0</td>\n",
              "      <td>l6td49</td>\n",
              "      <td>https://www.reddit.com/r/wallstreetbets/commen...</td>\n",
              "      <td>30.0</td>\n",
              "      <td>1.611858e+09</td>\n",
              "      <td>I was the lucky one in my family.  In 2008 I w...</td>\n",
              "      <td>2021-01-28 20:16:00</td>\n",
              "      <td>0.00</td>\n",
              "      <td>0.00</td>\n",
              "      <td>0.097564</td>\n",
              "      <td>0.484167</td>\n",
              "      <td>20:16:28</td>\n",
              "      <td>0.0</td>\n",
              "    </tr>\n",
              "    <tr>\n",
              "      <th>4</th>\n",
              "      <td>2021-01-28 20:00:00</td>\n",
              "      <td>313.89</td>\n",
              "      <td>327.0</td>\n",
              "      <td>305.99</td>\n",
              "      <td>311.99</td>\n",
              "      <td>314788.0</td>\n",
              "      <td>5.0</td>\n",
              "      <td>20:00:00</td>\n",
              "      <td>100.0</td>\n",
              "      <td>56.0</td>\n",
              "      <td>98210708.12</td>\n",
              "      <td>2021-01-28</td>\n",
              "      <td>20.00-20.29</td>\n",
              "      <td>Rocketship to Mars!</td>\n",
              "      <td>215.0</td>\n",
              "      <td>l6tbye</td>\n",
              "      <td>https://www.reddit.com/r/wallstreetbets/commen...</td>\n",
              "      <td>90.0</td>\n",
              "      <td>1.611858e+09</td>\n",
              "      <td># Hold/Buy until GME marketcap is higher than ...</td>\n",
              "      <td>2021-01-28 20:14:00</td>\n",
              "      <td>0.00</td>\n",
              "      <td>0.00</td>\n",
              "      <td>1.000000</td>\n",
              "      <td>0.500000</td>\n",
              "      <td>20:14:23</td>\n",
              "      <td>0.0</td>\n",
              "    </tr>\n",
              "  </tbody>\n",
              "</table>\n",
              "</div>"
            ],
            "text/plain": [
              "               time_x    open   high  ...  BodySubjectivity    time_y  marketpost\n",
              "0 2021-01-28 20:00:00  313.89  327.0  ...          0.000000  20:21:46         0.0\n",
              "1 2021-01-28 20:00:00  313.89  327.0  ...          0.420536  20:18:32         0.0\n",
              "2 2021-01-28 20:00:00  313.89  327.0  ...          0.000000  20:17:02         0.0\n",
              "3 2021-01-28 20:00:00  313.89  327.0  ...          0.484167  20:16:28         0.0\n",
              "4 2021-01-28 20:00:00  313.89  327.0  ...          0.500000  20:14:23         0.0\n",
              "\n",
              "[5 rows x 27 columns]"
            ]
          },
          "metadata": {
            "tags": []
          },
          "execution_count": 132
        }
      ]
    },
    {
      "cell_type": "code",
      "metadata": {
        "id": "qg039Uj6_5ze"
      },
      "source": [
        "data['date']= pd.to_datetime(data['date'],infer_datetime_format=True)\n",
        "data['date']=data['date'].apply(lambda x: x.toordinal())"
      ],
      "execution_count": 133,
      "outputs": []
    },
    {
      "cell_type": "code",
      "metadata": {
        "id": "UG0g9MxkNg8z"
      },
      "source": [
        "data.drop(['id','url','created','body','title','Time','timestamp','time_y'],axis=1, inplace=True)"
      ],
      "execution_count": 134,
      "outputs": []
    },
    {
      "cell_type": "code",
      "metadata": {
        "id": "1bPj8zJH-Jmn"
      },
      "source": [
        "#call the formula on the 30minIntervalColumn using:\n",
        "\n",
        "data['30minInterval']= data['30minInterval'].apply(lambda x: fix_bins(x))"
      ],
      "execution_count": 135,
      "outputs": []
    },
    {
      "cell_type": "code",
      "metadata": {
        "id": "05wcCn095gcF",
        "colab": {
          "base_uri": "https://localhost:8080/"
        },
        "outputId": "bfb72062-f8fa-41cb-cd39-552c59e389ee"
      },
      "source": [
        "data.info()"
      ],
      "execution_count": 136,
      "outputs": [
        {
          "output_type": "stream",
          "text": [
            "<class 'pandas.core.frame.DataFrame'>\n",
            "Int64Index: 13308 entries, 0 to 13313\n",
            "Data columns (total 19 columns):\n",
            " #   Column                             Non-Null Count  Dtype         \n",
            "---  ------                             --------------  -----         \n",
            " 0   time_x                             13308 non-null  datetime64[ns]\n",
            " 1   open                               13308 non-null  float64       \n",
            " 2   high                               13308 non-null  float64       \n",
            " 3   low                                13308 non-null  float64       \n",
            " 4   close                              13308 non-null  float64       \n",
            " 5   volume                             13308 non-null  float64       \n",
            " 6   week_day                           13308 non-null  float64       \n",
            " 7   NYSE:GME: (United States)          13308 non-null  float64       \n",
            " 8   r/WallStreetBets: (United States)  13308 non-null  float64       \n",
            " 9   market_cap                         13308 non-null  float64       \n",
            " 10  date                               13308 non-null  int64         \n",
            " 11  30minInterval                      13308 non-null  int64         \n",
            " 12  score                              13308 non-null  float64       \n",
            " 13  comms_num                          13308 non-null  float64       \n",
            " 14  TitlePolarity                      13308 non-null  float64       \n",
            " 15  TitleSubjectivity                  13308 non-null  float64       \n",
            " 16  BodyPolarity                       13308 non-null  float64       \n",
            " 17  BodySubjectivity                   13308 non-null  float64       \n",
            " 18  marketpost                         13308 non-null  float64       \n",
            "dtypes: datetime64[ns](1), float64(16), int64(2)\n",
            "memory usage: 2.0 MB\n"
          ],
          "name": "stdout"
        }
      ]
    },
    {
      "cell_type": "code",
      "metadata": {
        "id": "7JoNY9WMlqip",
        "colab": {
          "base_uri": "https://localhost:8080/",
          "height": 430
        },
        "outputId": "1e0ec4d4-7197-4e99-8a60-9df53177c35e"
      },
      "source": [
        "#levearge the known temp to predict the next temp \n",
        "#shift the temp column by one\n",
        "data['Target'] = data.close.shift(1)\n",
        "\n",
        "#need to delete the first row in the dataframe because it has not prevTemp\n",
        "data = data[1:].copy()\n",
        "\n",
        "#look now at your dataset\n",
        "data.head()"
      ],
      "execution_count": 137,
      "outputs": [
        {
          "output_type": "execute_result",
          "data": {
            "text/html": [
              "<div>\n",
              "<style scoped>\n",
              "    .dataframe tbody tr th:only-of-type {\n",
              "        vertical-align: middle;\n",
              "    }\n",
              "\n",
              "    .dataframe tbody tr th {\n",
              "        vertical-align: top;\n",
              "    }\n",
              "\n",
              "    .dataframe thead th {\n",
              "        text-align: right;\n",
              "    }\n",
              "</style>\n",
              "<table border=\"1\" class=\"dataframe\">\n",
              "  <thead>\n",
              "    <tr style=\"text-align: right;\">\n",
              "      <th></th>\n",
              "      <th>time_x</th>\n",
              "      <th>open</th>\n",
              "      <th>high</th>\n",
              "      <th>low</th>\n",
              "      <th>close</th>\n",
              "      <th>volume</th>\n",
              "      <th>week_day</th>\n",
              "      <th>NYSE:GME: (United States)</th>\n",
              "      <th>r/WallStreetBets: (United States)</th>\n",
              "      <th>market_cap</th>\n",
              "      <th>date</th>\n",
              "      <th>30minInterval</th>\n",
              "      <th>score</th>\n",
              "      <th>comms_num</th>\n",
              "      <th>TitlePolarity</th>\n",
              "      <th>TitleSubjectivity</th>\n",
              "      <th>BodyPolarity</th>\n",
              "      <th>BodySubjectivity</th>\n",
              "      <th>marketpost</th>\n",
              "      <th>Target</th>\n",
              "    </tr>\n",
              "  </thead>\n",
              "  <tbody>\n",
              "    <tr>\n",
              "      <th>1</th>\n",
              "      <td>2021-01-28 20:00:00</td>\n",
              "      <td>313.89</td>\n",
              "      <td>327.0</td>\n",
              "      <td>305.99</td>\n",
              "      <td>311.99</td>\n",
              "      <td>314788.0</td>\n",
              "      <td>5.0</td>\n",
              "      <td>100.0</td>\n",
              "      <td>56.0</td>\n",
              "      <td>98210708.12</td>\n",
              "      <td>737818</td>\n",
              "      <td>40</td>\n",
              "      <td>560.0</td>\n",
              "      <td>215.0</td>\n",
              "      <td>0.20</td>\n",
              "      <td>0.10</td>\n",
              "      <td>0.030202</td>\n",
              "      <td>0.420536</td>\n",
              "      <td>0.0</td>\n",
              "      <td>311.99</td>\n",
              "    </tr>\n",
              "    <tr>\n",
              "      <th>2</th>\n",
              "      <td>2021-01-28 20:00:00</td>\n",
              "      <td>313.89</td>\n",
              "      <td>327.0</td>\n",
              "      <td>305.99</td>\n",
              "      <td>311.99</td>\n",
              "      <td>314788.0</td>\n",
              "      <td>5.0</td>\n",
              "      <td>100.0</td>\n",
              "      <td>56.0</td>\n",
              "      <td>98210708.12</td>\n",
              "      <td>737818</td>\n",
              "      <td>40</td>\n",
              "      <td>1452.0</td>\n",
              "      <td>189.0</td>\n",
              "      <td>0.65</td>\n",
              "      <td>0.75</td>\n",
              "      <td>0.000000</td>\n",
              "      <td>0.000000</td>\n",
              "      <td>0.0</td>\n",
              "      <td>311.99</td>\n",
              "    </tr>\n",
              "    <tr>\n",
              "      <th>3</th>\n",
              "      <td>2021-01-28 20:00:00</td>\n",
              "      <td>313.89</td>\n",
              "      <td>327.0</td>\n",
              "      <td>305.99</td>\n",
              "      <td>311.99</td>\n",
              "      <td>314788.0</td>\n",
              "      <td>5.0</td>\n",
              "      <td>100.0</td>\n",
              "      <td>56.0</td>\n",
              "      <td>98210708.12</td>\n",
              "      <td>737818</td>\n",
              "      <td>40</td>\n",
              "      <td>133.0</td>\n",
              "      <td>30.0</td>\n",
              "      <td>0.00</td>\n",
              "      <td>0.00</td>\n",
              "      <td>0.097564</td>\n",
              "      <td>0.484167</td>\n",
              "      <td>0.0</td>\n",
              "      <td>311.99</td>\n",
              "    </tr>\n",
              "    <tr>\n",
              "      <th>4</th>\n",
              "      <td>2021-01-28 20:00:00</td>\n",
              "      <td>313.89</td>\n",
              "      <td>327.0</td>\n",
              "      <td>305.99</td>\n",
              "      <td>311.99</td>\n",
              "      <td>314788.0</td>\n",
              "      <td>5.0</td>\n",
              "      <td>100.0</td>\n",
              "      <td>56.0</td>\n",
              "      <td>98210708.12</td>\n",
              "      <td>737818</td>\n",
              "      <td>40</td>\n",
              "      <td>215.0</td>\n",
              "      <td>90.0</td>\n",
              "      <td>0.00</td>\n",
              "      <td>0.00</td>\n",
              "      <td>1.000000</td>\n",
              "      <td>0.500000</td>\n",
              "      <td>0.0</td>\n",
              "      <td>311.99</td>\n",
              "    </tr>\n",
              "    <tr>\n",
              "      <th>5</th>\n",
              "      <td>2021-01-28 20:00:00</td>\n",
              "      <td>313.89</td>\n",
              "      <td>327.0</td>\n",
              "      <td>305.99</td>\n",
              "      <td>311.99</td>\n",
              "      <td>314788.0</td>\n",
              "      <td>5.0</td>\n",
              "      <td>100.0</td>\n",
              "      <td>56.0</td>\n",
              "      <td>98210708.12</td>\n",
              "      <td>737818</td>\n",
              "      <td>40</td>\n",
              "      <td>331.0</td>\n",
              "      <td>94.0</td>\n",
              "      <td>0.00</td>\n",
              "      <td>0.00</td>\n",
              "      <td>-0.037500</td>\n",
              "      <td>0.496528</td>\n",
              "      <td>0.0</td>\n",
              "      <td>311.99</td>\n",
              "    </tr>\n",
              "  </tbody>\n",
              "</table>\n",
              "</div>"
            ],
            "text/plain": [
              "               time_x    open   high  ...  BodySubjectivity  marketpost  Target\n",
              "1 2021-01-28 20:00:00  313.89  327.0  ...          0.420536         0.0  311.99\n",
              "2 2021-01-28 20:00:00  313.89  327.0  ...          0.000000         0.0  311.99\n",
              "3 2021-01-28 20:00:00  313.89  327.0  ...          0.484167         0.0  311.99\n",
              "4 2021-01-28 20:00:00  313.89  327.0  ...          0.500000         0.0  311.99\n",
              "5 2021-01-28 20:00:00  313.89  327.0  ...          0.496528         0.0  311.99\n",
              "\n",
              "[5 rows x 20 columns]"
            ]
          },
          "metadata": {
            "tags": []
          },
          "execution_count": 137
        }
      ]
    },
    {
      "cell_type": "code",
      "metadata": {
        "id": "Vmvq-hscmcak"
      },
      "source": [
        "data.set_index('time_x', inplace=True)"
      ],
      "execution_count": 138,
      "outputs": []
    },
    {
      "cell_type": "code",
      "metadata": {
        "id": "5emNuVEYmqDK"
      },
      "source": [
        "data.sort_index(ascending=True,inplace=True)"
      ],
      "execution_count": 139,
      "outputs": []
    },
    {
      "cell_type": "code",
      "metadata": {
        "id": "sCydKEiwmuL1"
      },
      "source": [
        "data=data.drop('close',axis=1)"
      ],
      "execution_count": 140,
      "outputs": []
    },
    {
      "cell_type": "code",
      "metadata": {
        "id": "29Hy32KWm399",
        "colab": {
          "base_uri": "https://localhost:8080/"
        },
        "outputId": "96ec3e78-f36c-4d7f-e84e-33726953ac04"
      },
      "source": [
        "#Set a value for the number of predictions the model should make\n",
        "NUM_PREDICTIONS = 3\n",
        "\n",
        "#For demonstrations purposes, keep the predictions aside so you can evaluate the results\n",
        "toPredict = data[-NUM_PREDICTIONS:].copy()\n",
        "\n",
        "#remove future predictions from dataset\n",
        "data = data[:-NUM_PREDICTIONS].copy() #two separate dataframe\n",
        "\n",
        "toPredict.shape, data.shape"
      ],
      "execution_count": 141,
      "outputs": [
        {
          "output_type": "execute_result",
          "data": {
            "text/plain": [
              "((3, 18), (13304, 18))"
            ]
          },
          "metadata": {
            "tags": []
          },
          "execution_count": 141
        }
      ]
    },
    {
      "cell_type": "code",
      "metadata": {
        "id": "W08JO5oEnBD0",
        "colab": {
          "base_uri": "https://localhost:8080/"
        },
        "outputId": "ff1e34f6-71ba-4c01-eb65-a48ddc90d465"
      },
      "source": [
        "#split into train and test sets\n",
        "X_train, X_test, y_train, y_test = train_test_split(data.drop(['Target'],axis=1), data.Target, test_size=0.20, random_state=42, shuffle = False)\n",
        "\n",
        "#let's see what we have\n",
        "X_train.shape, X_test.shape, y_train.shape"
      ],
      "execution_count": 142,
      "outputs": [
        {
          "output_type": "execute_result",
          "data": {
            "text/plain": [
              "((10643, 17), (2661, 17), (10643,))"
            ]
          },
          "metadata": {
            "tags": []
          },
          "execution_count": 142
        }
      ]
    },
    {
      "cell_type": "code",
      "metadata": {
        "id": "eH42UQOrnJd_"
      },
      "source": [
        "#no categorical attributes for this data set (nice to have in case data changes)\n",
        "cat_attribs = []\n",
        "\n",
        "#set the numerical attributes\n",
        "num_attribs = list( X_train.drop(cat_attribs,axis=1) )\n",
        "\n",
        "#define pipeline for numeric attributes (this code is just a definition)\n",
        "#each numeric attribute will be imputated using the Median strategy\n",
        "#each numeric attribute will be scaled \n",
        "num_pipeline = Pipeline( [\n",
        " ('std_scaler', MinMaxScaler()),   \n",
        "])\n",
        "\n",
        "#define the pipeline process for the data set\n",
        "full_pipeline = ColumnTransformer( [\n",
        "    ('num', num_pipeline, num_attribs),\n",
        "    ('cat', OneHotEncoder(sparse=False), cat_attribs)      #because no categorical attributes, not used \n",
        "])"
      ],
      "execution_count": 143,
      "outputs": []
    },
    {
      "cell_type": "code",
      "metadata": {
        "id": "sz0yP7kpoNAk",
        "colab": {
          "base_uri": "https://localhost:8080/"
        },
        "outputId": "17af8cda-ea34-44bb-e4f8-ef4266700a88"
      },
      "source": [
        "#create an array of prepared data based on the training data set\n",
        "X_train = full_pipeline.fit_transform( X_train )\n",
        "X_test = full_pipeline.transform(X_test)\n",
        "X_train.shape, X_test.shape"
      ],
      "execution_count": 144,
      "outputs": [
        {
          "output_type": "execute_result",
          "data": {
            "text/plain": [
              "((10643, 17), (2661, 17))"
            ]
          },
          "metadata": {
            "tags": []
          },
          "execution_count": 144
        }
      ]
    },
    {
      "cell_type": "code",
      "metadata": {
        "id": "Y74EiWj0oQNO"
      },
      "source": [
        "#scale the target data\n",
        "yscaler = MinMaxScaler()\n",
        "y_train = yscaler.fit_transform(np.array(y_train).reshape(-1,1))\n",
        "y_test = yscaler.transform(np.array(y_test).reshape(-1,1))"
      ],
      "execution_count": 145,
      "outputs": []
    },
    {
      "cell_type": "markdown",
      "metadata": {
        "id": "GsRtu1ZJBlV7"
      },
      "source": [
        "Establish Baseline"
      ]
    },
    {
      "cell_type": "code",
      "metadata": {
        "id": "yOpsiZkZBoXS",
        "colab": {
          "base_uri": "https://localhost:8080/"
        },
        "outputId": "09f2c291-d022-4d04-b937-a18a4444fa26"
      },
      "source": [
        "#predcition is based on last observed value\n",
        "pred= yscaler.inverse_transform(y_test[1:,])\n",
        "actual= yscaler.inverse_transform(y_test[:-1,])\n",
        "\n",
        "#calculate the Mean Absolute Error between the prediction and the actual\n",
        "np.mean(keras.losses.mean_absolute_error(pred,actual))"
      ],
      "execution_count": 146,
      "outputs": [
        {
          "output_type": "execute_result",
          "data": {
            "text/plain": [
              "1.83258037593985"
            ]
          },
          "metadata": {
            "tags": []
          },
          "execution_count": 146
        }
      ]
    },
    {
      "cell_type": "code",
      "metadata": {
        "id": "ywklfHvKMszs",
        "colab": {
          "base_uri": "https://localhost:8080/",
          "height": 265
        },
        "outputId": "296ed5c9-2b56-488b-bacc-257d016049b8"
      },
      "source": [
        "#plot the last 48 instances in the series to see the \"predicted\" shift in temperatures \n",
        "plot_actual_pred (actual[-100:], pred[-100:])"
      ],
      "execution_count": 147,
      "outputs": [
        {
          "output_type": "display_data",
          "data": {
            "image/png": "[encoded data removed]",
            "text/plain": [
              "<Figure size 432x288 with 1 Axes>"
            ]
          },
          "metadata": {
            "tags": [],
            "needs_background": "light"
          }
        }
      ]
    },
    {
      "cell_type": "markdown",
      "metadata": {
        "id": "OggHHqHxNHDT"
      },
      "source": [
        "Linear Regression"
      ]
    },
    {
      "cell_type": "code",
      "metadata": {
        "id": "bomagDFhM2mJ",
        "colab": {
          "base_uri": "https://localhost:8080/"
        },
        "outputId": "425b6561-05ef-46a3-ce9c-58d9536b61c9"
      },
      "source": [
        "#build the model and fit our data to the model\n",
        "lin_reg = LinearRegression()\n",
        "lin_reg.fit(X_train, y_train)"
      ],
      "execution_count": 148,
      "outputs": [
        {
          "output_type": "execute_result",
          "data": {
            "text/plain": [
              "LinearRegression(copy_X=True, fit_intercept=True, n_jobs=None, normalize=False)"
            ]
          },
          "metadata": {
            "tags": []
          },
          "execution_count": 148
        }
      ]
    },
    {
      "cell_type": "code",
      "metadata": {
        "id": "UhcA2naTNIsm",
        "colab": {
          "base_uri": "https://localhost:8080/"
        },
        "outputId": "f114d1e7-abb2-481f-d60d-f4bdecdb189b"
      },
      "source": [
        "#test the model out on the Test data\n",
        "predictions = lin_reg.predict(X_test)\n",
        "pred = yscaler.inverse_transform(predictions)\n",
        "actual = yscaler.inverse_transform(y_test)\n",
        "\n",
        "np.mean(keras.losses.mean_absolute_error(pred[-5:],actual[-5:]))"
      ],
      "execution_count": 149,
      "outputs": [
        {
          "output_type": "execute_result",
          "data": {
            "text/plain": [
              "4.982637593170091"
            ]
          },
          "metadata": {
            "tags": []
          },
          "execution_count": 149
        }
      ]
    },
    {
      "cell_type": "code",
      "metadata": {
        "id": "pyBFDAw4NLBi",
        "colab": {
          "base_uri": "https://localhost:8080/",
          "height": 265
        },
        "outputId": "b1e755fd-e9db-4467-b0e8-8304f3b4718f"
      },
      "source": [
        "plot_actual_pred (actual[-100:], pred[-100:])"
      ],
      "execution_count": 150,
      "outputs": [
        {
          "output_type": "display_data",
          "data": {
            "image/png": "[encoded data removed]",
            "text/plain": [
              "<Figure size 432x288 with 1 Axes>"
            ]
          },
          "metadata": {
            "tags": [],
            "needs_background": "light"
          }
        }
      ]
    },
    {
      "cell_type": "markdown",
      "metadata": {
        "id": "cZaX4YmMNTeY"
      },
      "source": [
        "RNN"
      ]
    },
    {
      "cell_type": "code",
      "metadata": {
        "id": "rEGAneTuNNVb",
        "colab": {
          "base_uri": "https://localhost:8080/"
        },
        "outputId": "5343c5f3-cb81-4987-bb6d-82f55e23b5ae"
      },
      "source": [
        "X_train_series = X_train.reshape(X_train.shape[0], -1, X_train.shape[1])\n",
        "X_test_series  = X_test.reshape( X_test.shape[0],  -1, X_test.shape[1])\n",
        "X_train_series.shape, X_test_series.shape"
      ],
      "execution_count": 151,
      "outputs": [
        {
          "output_type": "execute_result",
          "data": {
            "text/plain": [
              "((10643, 1, 17), (2661, 1, 17))"
            ]
          },
          "metadata": {
            "tags": []
          },
          "execution_count": 151
        }
      ]
    },
    {
      "cell_type": "code",
      "metadata": {
        "id": "wi0NJDyqNV3O"
      },
      "source": [
        "#starting by setting random seeds and restarting keras blackend session\n",
        "np.random.seed(42)\n",
        "tf.random.set_seed(42)\n",
        "\n",
        "#resets the Keras global state - helps avoid clutter from old models and layers, especially when memory is limited\n",
        "keras.backend.clear_session()"
      ],
      "execution_count": 184,
      "outputs": []
    },
    {
      "cell_type": "code",
      "metadata": {
        "id": "KhoqxbUtNXhV"
      },
      "source": [
        "#17 original inputs and 1 output so in between 12-34 neurons per layer\n",
        "model = keras.models.Sequential([\n",
        "    keras.layers.GRU(30, return_sequences=True, input_shape=[None,X_train_series.shape[2]]), \n",
        "    keras.layers.GRU(20, return_sequences=True, input_shape=[None,X_train_series.shape[2]]), \n",
        "    keras.layers.GRU(10, activation=\"relu\"), \n",
        "    keras.layers.Dense(1)\n",
        "])"
      ],
      "execution_count": 185,
      "outputs": []
    },
    {
      "cell_type": "code",
      "metadata": {
        "id": "b3CELVGbNpa7"
      },
      "source": [
        "#compile the model\n",
        "model.compile(loss=\"mean_absolute_error\", optimizer=keras.optimizers.Adam(lr=.00001))"
      ],
      "execution_count": 186,
      "outputs": []
    },
    {
      "cell_type": "code",
      "metadata": {
        "id": "U7gVZ_4qNrsM"
      },
      "source": [
        "early_stopping = keras.callbacks.EarlyStopping(monitor=\"val_loss\", patience=2, mode='min')"
      ],
      "execution_count": 187,
      "outputs": []
    },
    {
      "cell_type": "code",
      "metadata": {
        "id": "dHAD8I44NtcE",
        "colab": {
          "base_uri": "https://localhost:8080/"
        },
        "outputId": "1055ccf7-d1d5-4d03-a947-6657003cefdb"
      },
      "source": [
        "#fit the model\n",
        "history = model.fit(X_train_series, y_train, epochs=100,\n",
        "                    validation_split=.2, shuffle=False, batch_size=3, callbacks=[early_stopping])"
      ],
      "execution_count": 188,
      "outputs": [
        {
          "output_type": "stream",
          "text": [
            "Epoch 1/100\n",
            "2838/2838 [==============================] - 14s 4ms/step - loss: 0.4708 - val_loss: 0.2287\n",
            "Epoch 2/100\n",
            "2838/2838 [==============================] - 10s 3ms/step - loss: 0.4060 - val_loss: 0.2268\n",
            "Epoch 3/100\n",
            "2838/2838 [==============================] - 10s 3ms/step - loss: 0.3687 - val_loss: 0.2226\n",
            "Epoch 4/100\n",
            "2838/2838 [==============================] - 10s 4ms/step - loss: 0.3359 - val_loss: 0.2107\n",
            "Epoch 5/100\n",
            "2838/2838 [==============================] - 10s 4ms/step - loss: 0.2869 - val_loss: 0.1922\n",
            "Epoch 6/100\n",
            "2838/2838 [==============================] - 10s 4ms/step - loss: 0.2258 - val_loss: 0.1691\n",
            "Epoch 7/100\n",
            "2838/2838 [==============================] - 10s 4ms/step - loss: 0.1518 - val_loss: 0.1398\n",
            "Epoch 8/100\n",
            "2838/2838 [==============================] - 10s 3ms/step - loss: 0.0837 - val_loss: 0.1157\n",
            "Epoch 9/100\n",
            "2838/2838 [==============================] - 10s 3ms/step - loss: 0.0601 - val_loss: 0.1006\n",
            "Epoch 10/100\n",
            "2838/2838 [==============================] - 10s 4ms/step - loss: 0.0528 - val_loss: 0.0910\n",
            "Epoch 11/100\n",
            "2838/2838 [==============================] - 10s 4ms/step - loss: 0.0494 - val_loss: 0.0834\n",
            "Epoch 12/100\n",
            "2838/2838 [==============================] - 10s 3ms/step - loss: 0.0465 - val_loss: 0.0755\n",
            "Epoch 13/100\n",
            "2838/2838 [==============================] - 10s 4ms/step - loss: 0.0438 - val_loss: 0.0685\n",
            "Epoch 14/100\n",
            "2838/2838 [==============================] - 10s 4ms/step - loss: 0.0421 - val_loss: 0.0619\n",
            "Epoch 15/100\n",
            "2838/2838 [==============================] - 10s 3ms/step - loss: 0.0406 - val_loss: 0.0567\n",
            "Epoch 16/100\n",
            "2838/2838 [==============================] - 10s 3ms/step - loss: 0.0392 - val_loss: 0.0509\n",
            "Epoch 17/100\n",
            "2838/2838 [==============================] - 10s 3ms/step - loss: 0.0378 - val_loss: 0.0450\n",
            "Epoch 18/100\n",
            "2838/2838 [==============================] - 10s 3ms/step - loss: 0.0368 - val_loss: 0.0408\n",
            "Epoch 19/100\n",
            "2838/2838 [==============================] - 10s 4ms/step - loss: 0.0357 - val_loss: 0.0379\n",
            "Epoch 20/100\n",
            "2838/2838 [==============================] - 10s 4ms/step - loss: 0.0348 - val_loss: 0.0334\n",
            "Epoch 21/100\n",
            "2838/2838 [==============================] - 10s 4ms/step - loss: 0.0340 - val_loss: 0.0297\n",
            "Epoch 22/100\n",
            "2838/2838 [==============================] - 10s 4ms/step - loss: 0.0332 - val_loss: 0.0266\n",
            "Epoch 23/100\n",
            "2838/2838 [==============================] - 10s 4ms/step - loss: 0.0325 - val_loss: 0.0242\n",
            "Epoch 24/100\n",
            "2838/2838 [==============================] - 10s 4ms/step - loss: 0.0320 - val_loss: 0.0213\n",
            "Epoch 25/100\n",
            "2838/2838 [==============================] - 10s 4ms/step - loss: 0.0315 - val_loss: 0.0185\n",
            "Epoch 26/100\n",
            "2838/2838 [==============================] - 10s 4ms/step - loss: 0.0311 - val_loss: 0.0169\n",
            "Epoch 27/100\n",
            "2838/2838 [==============================] - 10s 3ms/step - loss: 0.0307 - val_loss: 0.0156\n",
            "Epoch 28/100\n",
            "2838/2838 [==============================] - 10s 4ms/step - loss: 0.0303 - val_loss: 0.0140\n",
            "Epoch 29/100\n",
            "2838/2838 [==============================] - 10s 4ms/step - loss: 0.0298 - val_loss: 0.0125\n",
            "Epoch 30/100\n",
            "2838/2838 [==============================] - 10s 3ms/step - loss: 0.0295 - val_loss: 0.0115\n",
            "Epoch 31/100\n",
            "2838/2838 [==============================] - 10s 4ms/step - loss: 0.0292 - val_loss: 0.0108\n",
            "Epoch 32/100\n",
            "2838/2838 [==============================] - 10s 4ms/step - loss: 0.0288 - val_loss: 0.0103\n",
            "Epoch 33/100\n",
            "2838/2838 [==============================] - 10s 3ms/step - loss: 0.0285 - val_loss: 0.0097\n",
            "Epoch 34/100\n",
            "2838/2838 [==============================] - 9s 3ms/step - loss: 0.0282 - val_loss: 0.0094\n",
            "Epoch 35/100\n",
            "2838/2838 [==============================] - 9s 3ms/step - loss: 0.0280 - val_loss: 0.0092\n",
            "Epoch 36/100\n",
            "2838/2838 [==============================] - 9s 3ms/step - loss: 0.0277 - val_loss: 0.0088\n",
            "Epoch 37/100\n",
            "2838/2838 [==============================] - 10s 3ms/step - loss: 0.0274 - val_loss: 0.0090\n",
            "Epoch 38/100\n",
            "2838/2838 [==============================] - 9s 3ms/step - loss: 0.0271 - val_loss: 0.0089\n"
          ],
          "name": "stdout"
        }
      ]
    },
    {
      "cell_type": "code",
      "metadata": {
        "id": "LsOxmYXTNxOL",
        "colab": {
          "base_uri": "https://localhost:8080/",
          "height": 334
        },
        "outputId": "10680e92-4053-4388-c352-a75b81a7e966"
      },
      "source": [
        "#plot the learning curve of the model; overfitting\n",
        "plot_learning_curve(history)\n",
        "plt.show()"
      ],
      "execution_count": 189,
      "outputs": [
        {
          "output_type": "display_data",
          "data": {
            "image/png": "[encoded data removed]",
            "text/plain": [
              "<Figure size 576x360 with 1 Axes>"
            ]
          },
          "metadata": {
            "tags": [],
            "needs_background": "light"
          }
        }
      ]
    },
    {
      "cell_type": "code",
      "metadata": {
        "id": "kpxD3J77N_b5",
        "colab": {
          "base_uri": "https://localhost:8080/"
        },
        "outputId": "0af7d3d6-391e-426b-d455-b3645d284d3d"
      },
      "source": [
        "#predict the test data set\n",
        "y_pred = model.predict(X_test_series)\n",
        "\n",
        "#scale predicted and actuals\n",
        "pred = yscaler.inverse_transform( y_pred )\n",
        "actual = yscaler.inverse_transform(y_test)\n",
        "\n",
        "#calculate the Mean Absolute Error using the scaled values\n",
        "np.mean(keras.losses.mean_absolute_error(pred[-5:],actual[-5:]))"
      ],
      "execution_count": 191,
      "outputs": [
        {
          "output_type": "execute_result",
          "data": {
            "text/plain": [
              "1.003118896484375"
            ]
          },
          "metadata": {
            "tags": []
          },
          "execution_count": 191
        }
      ]
    },
    {
      "cell_type": "code",
      "metadata": {
        "id": "oqgR5X2QOLKE",
        "colab": {
          "base_uri": "https://localhost:8080/",
          "height": 265
        },
        "outputId": "122a4bf5-ba67-4fb4-d3f0-6efff06974f4"
      },
      "source": [
        "#plot the actuals vs. the predictions\n",
        "plot_actual_pred ( actual[-5:], pred[-5:,0] )"
      ],
      "execution_count": 192,
      "outputs": [
        {
          "output_type": "display_data",
          "data": {
            "image/png": "[encoded data removed]",
            "text/plain": [
              "<Figure size 432x288 with 1 Axes>"
            ]
          },
          "metadata": {
            "tags": [],
            "needs_background": "light"
          }
        }
      ]
    },
    {
      "cell_type": "markdown",
      "metadata": {
        "id": "uVC0_abRO7rs"
      },
      "source": [
        "Predict Future Values"
      ]
    },
    {
      "cell_type": "code",
      "metadata": {
        "id": "iT9RuirEO0hZ"
      },
      "source": [
        "#Prepare future predictions\n",
        "#remember from above some instances were kept and stored into the dataframe called toPredict\n",
        "\n",
        "#prepare the data for the model\n",
        "X_future = full_pipeline.transform( toPredict.drop(['Target'], axis=1) ) #take out solution\n",
        "X_future = X_future.reshape(X_future.shape[0], -1, X_future.shape[1])\n",
        "\n",
        "#preserve the actual values\n",
        "y_future = np.array( toPredict.Target )"
      ],
      "execution_count": 193,
      "outputs": []
    },
    {
      "cell_type": "code",
      "metadata": {
        "id": "HGdDuhs6O_RA"
      },
      "source": [
        "#Predict using the model\n",
        "y_prediction = model.predict( X_future )\n",
        "\n",
        "#scale the y values\n",
        "y_prediction = yscaler.inverse_transform( y_prediction )"
      ],
      "execution_count": 194,
      "outputs": []
    },
    {
      "cell_type": "code",
      "metadata": {
        "id": "9tBYzj2BPBGU",
        "colab": {
          "base_uri": "https://localhost:8080/"
        },
        "outputId": "65ffc0cf-e3f6-4f00-df4a-4440ee585ad0"
      },
      "source": [
        "#calculate the Mean Absolute Error using the scaled values\n",
        "#NOTE: if NUM_PREDICTIONS is > 1, the ,0 is needed to compare the 1st value in the prediction\n",
        "np.mean(keras.losses.mean_absolute_error( y_prediction[-5:], y_future[-5:]) ) "
      ],
      "execution_count": 195,
      "outputs": [
        {
          "output_type": "execute_result",
          "data": {
            "text/plain": [
              "2.485114542643231"
            ]
          },
          "metadata": {
            "tags": []
          },
          "execution_count": 195
        }
      ]
    },
    {
      "cell_type": "code",
      "metadata": {
        "id": "62sjSqd5PDD_",
        "colab": {
          "base_uri": "https://localhost:8080/"
        },
        "outputId": "0d6b69f8-7f9f-4855-c137-58448e5a1625"
      },
      "source": [
        "y_future, y_prediction"
      ],
      "execution_count": 196,
      "outputs": [
        {
          "output_type": "execute_result",
          "data": {
            "text/plain": [
              "(array([159. , 164.9, 159. ]), array([[158.4015 ],\n",
              "        [158.40157],\n",
              "        [158.64159]], dtype=float32))"
            ]
          },
          "metadata": {
            "tags": []
          },
          "execution_count": 196
        }
      ]
    },
    {
      "cell_type": "code",
      "metadata": {
        "id": "-g9w7xYvPHKV",
        "colab": {
          "base_uri": "https://localhost:8080/",
          "height": 265
        },
        "outputId": "c8e59fa7-7253-438a-fb68-68b745158555"
      },
      "source": [
        "#plot the actual values as well as future known actuals vs. future predictions\n",
        "#NOTE: if NUM_PREDICTIONS is > 1, the ,0 is needed to only plot the 1st value in the prediction\n",
        "plot_series(actual[-20:], y_future, y_prediction[-20:,0]) "
      ],
      "execution_count": 197,
      "outputs": [
        {
          "output_type": "display_data",
          "data": {
            "image/png": "[encoded data removed]",
            "text/plain": [
              "<Figure size 432x288 with 1 Axes>"
            ]
          },
          "metadata": {
            "tags": [],
            "needs_background": "light"
          }
        }
      ]
    },
    {
      "cell_type": "code",
      "metadata": {
        "id": "qSu-TdXsPN6y"
      },
      "source": [
        ""
      ],
      "execution_count": 164,
      "outputs": []
    }
  ]
}