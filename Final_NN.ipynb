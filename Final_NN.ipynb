{
  "nbformat": 4,
  "nbformat_minor": 0,
  "metadata": {
    "colab": {
      "name": "Final_NN.ipynb",
      "provenance": [],
      "collapsed_sections": []
    },
    "kernelspec": {
      "name": "python3",
      "display_name": "Python 3"
    },
    "language_info": {
      "name": "python"
    }
  },
  "cells": [
    {
      "cell_type": "code",
      "metadata": {
        "id": "xYt35UjSNCtn"
      },
      "source": [
        "# Common imports\n",
        "import pandas as pd\n",
        "import numpy as np\n",
        "from textblob import TextBlob\n",
        "import datetime as dt\n",
        "\n",
        "#TensorFlow required imports\n",
        "import tensorflow as tf\n",
        "from tensorflow import keras\n",
        "import pandas as pd\n",
        "import numpy as np\n",
        "\n",
        "#Sklearn modules\n",
        "from sklearn.model_selection import train_test_split\n",
        "from sklearn.preprocessing import StandardScaler, MinMaxScaler\n",
        "from sklearn.model_selection import GridSearchCV\n",
        "from sklearn.linear_model import LinearRegression\n",
        "from sklearn.model_selection import StratifiedShuffleSplit\n",
        "from sklearn.pipeline import Pipeline\n",
        "from sklearn.impute import SimpleImputer\n",
        "from sklearn.preprocessing import OneHotEncoder\n",
        "from sklearn.compose import ColumnTransformer\n",
        "from sklearn.preprocessing import StandardScaler\n",
        "from sklearn.linear_model import Ridge\n",
        "from sklearn.metrics import mean_squared_error, mean_absolute_error\n",
        "\n",
        "# To plot pretty figures\n",
        "import matplotlib as mpl\n",
        "import matplotlib.pyplot as plt"
      ],
      "execution_count": 163,
      "outputs": []
    },
    {
      "cell_type": "code",
      "metadata": {
        "id": "2GmjxxAxPKtU"
      },
      "source": [
        "#function to plot a series as well as the predicted and value to be predicted (if known)\n",
        "def plot_series(series, y=None, y_pred=None):\n",
        "    plt.plot(series, \".-\")\n",
        "    if y is not None:\n",
        "        plt.plot(range(series.shape[0], series.shape[0]+y.shape[0]), y, \"bx-\", markersize=10, label=\"Actual\")\n",
        "    if y_pred is not None:\n",
        "        plt.plot(range(series.shape[0], series.shape[0]+y_pred.shape[0]), y_pred, \"ro-\", label=\"Prediction\")\n",
        "    plt.grid(True)\n",
        "    plt.legend()\n",
        "    plt.show()"
      ],
      "execution_count": 164,
      "outputs": []
    },
    {
      "cell_type": "code",
      "metadata": {
        "id": "9S7fKE_GM7ck"
      },
      "source": [
        "#function to plot actual values vs. predicted values\n",
        "def plot_actual_pred( actual, prediction ):\n",
        "    plt.plot(actual, \".-\", alpha=.6, label=\"Actual\")\n",
        "    plt.plot(prediction, \".-\", alpha=.6, label=\"Prediction\")\n",
        "    plt.grid(True)\n",
        "    plt.legend()\n",
        "    plt.show()"
      ],
      "execution_count": 165,
      "outputs": []
    },
    {
      "cell_type": "code",
      "metadata": {
        "id": "1BG1mRnWOEJz"
      },
      "source": [
        "#function provided that plots the learning curve for neural networks\n",
        "def plot_learning_curve( history ):\n",
        "    pd.DataFrame(history.history).plot(figsize=(8, 5))\n",
        "    plt.grid(True)\n",
        "    ymin, ymax = [], []\n",
        "    for x in history.history.keys():\n",
        "        ymax.append( max(history.history[x]))\n",
        "        ymin.append( min(history.history[x]))\n",
        "    plt.gca().set_ylim(min(ymin), max(ymax))\n",
        "    plt.xlabel(\"EPOCHS\")\n",
        "    plt.show()"
      ],
      "execution_count": 166,
      "outputs": []
    },
    {
      "cell_type": "code",
      "metadata": {
        "id": "SrMsJ5Vp938a"
      },
      "source": [
        "#this is the formula\n",
        "def fix_bins(x):\n",
        "        if x == '23.30-23.59':\n",
        "            x = 47\n",
        "        elif x == '23.00-23.29':\n",
        "            x = 46\n",
        "        elif x == '22.30-22.59':\n",
        "            x = 45       \n",
        "        elif x == '22.00-22.29':\n",
        "            x = 44\n",
        "        elif x == '21.30-21.59':\n",
        "            x = 43\n",
        "        elif x == '21.00-21.29':\n",
        "            x = 42\n",
        "        elif x == '20.30-20.59':\n",
        "            x = 41\n",
        "        elif x == '20.00-20.29':\n",
        "            x = 40\n",
        "        elif x == '19.30-19.59':\n",
        "            x = 39\n",
        "        elif x == '19.00-19.29':\n",
        "            x = 38\n",
        "        elif x == '18.30-18.59':\n",
        "            x = 37\n",
        "        elif x == '18.00-18.29':\n",
        "            x = 36\n",
        "        elif x == '17.30-17.59':\n",
        "            x = 35\n",
        "        elif x == '17.00-17.29':\n",
        "            x = 34\n",
        "        elif x == '16.30-16.59':\n",
        "            x = 33\n",
        "        elif x == '16.00-16.29':\n",
        "            x = 32\n",
        "        elif x == '15.30-15.59':\n",
        "            x = 31\n",
        "        elif x == '15.00-15.29':\n",
        "            x = 30\n",
        "        elif x == '14.30-14.59':\n",
        "            x = 29\n",
        "        elif x == '14.00-14.29':\n",
        "            x = 28\n",
        "        elif x == '13.30-13.59':\n",
        "            x = 27\n",
        "        elif x == '13.00-13.29':\n",
        "                x = 26\n",
        "        elif x == '12.30-12.59':\n",
        "                x = 25\n",
        "        elif x == '12.00-12.29':\n",
        "                x = 24\n",
        "        elif x == '11.30-11.59':\n",
        "                x = 23\n",
        "        elif x == '11.00-11.29':\n",
        "                x = 22\n",
        "        elif x == '10.30-10.59':\n",
        "                x = 21\n",
        "        elif x == '10.00-10.29':\n",
        "                x = 20\n",
        "        elif x == '09.30-09.59':\n",
        "                x = 19\n",
        "        elif x == '09.00-09.29':\n",
        "                x = 18\n",
        "        elif x == '08.30-08.59':\n",
        "                x = 17\n",
        "        elif x == '08.00-08.29':\n",
        "                x = 16\n",
        "        elif x == '07.30-07.59':\n",
        "                x = 15\n",
        "        elif x == '07.00-07.29':\n",
        "                x = 14\n",
        "        elif x == '06.30-06.59':\n",
        "                x = 13\n",
        "        elif x == '06.00-06.29':\n",
        "                x = 12\n",
        "        elif x == '05.30-05.59':\n",
        "                x = 11\n",
        "        elif x == '05.00-05.29':\n",
        "                x = 10\n",
        "        elif x == '04.30-04.59':\n",
        "                x = 9\n",
        "        elif x == '04.00-04.29':\n",
        "                x = 8\n",
        "        elif x == '03.30-03.59':\n",
        "                x = 7\n",
        "        elif x == '03.00-03.29':\n",
        "                x = 6\n",
        "        elif x == '02.30-02.59':\n",
        "                x = 5\n",
        "        elif x == '02.00-02.29':\n",
        "                x = 4\n",
        "        elif x == '01.30-01.59':\n",
        "                x = 3\n",
        "        elif x == '01.00-01.29':\n",
        "                x = 2\n",
        "        elif x == '00.30-00.59':\n",
        "                x = 1\n",
        "        elif x == '00.00-00:29':\n",
        "            x = 0\n",
        "        \n",
        "        return x"
      ],
      "execution_count": 167,
      "outputs": []
    },
    {
      "cell_type": "code",
      "metadata": {
        "id": "xgjjMhc8-b63"
      },
      "source": [
        "data=pd.read_excel('/content/datafinal.xlsx')"
      ],
      "execution_count": 168,
      "outputs": []
    },
    {
      "cell_type": "code",
      "metadata": {
        "colab": {
          "base_uri": "https://localhost:8080/"
        },
        "id": "VlJKsNpLNcwl",
        "outputId": "30c63151-ce50-475c-b5e1-139ce8b7abfb"
      },
      "source": [
        "data.info()"
      ],
      "execution_count": 169,
      "outputs": [
        {
          "output_type": "stream",
          "text": [
            "<class 'pandas.core.frame.DataFrame'>\n",
            "RangeIndex: 13314 entries, 0 to 13313\n",
            "Data columns (total 27 columns):\n",
            " #   Column                             Non-Null Count  Dtype         \n",
            "---  ------                             --------------  -----         \n",
            " 0   time_x                             13311 non-null  datetime64[ns]\n",
            " 1   open                               13311 non-null  float64       \n",
            " 2   high                               13311 non-null  float64       \n",
            " 3   low                                13311 non-null  float64       \n",
            " 4   close                              13311 non-null  float64       \n",
            " 5   volume                             13311 non-null  float64       \n",
            " 6   week_day                           13311 non-null  float64       \n",
            " 7   Time                               13311 non-null  object        \n",
            " 8   NYSE:GME: (United States)          13311 non-null  float64       \n",
            " 9   r/WallStreetBets: (United States)  13311 non-null  float64       \n",
            " 10  market_cap                         13311 non-null  float64       \n",
            " 11  date                               13311 non-null  datetime64[ns]\n",
            " 12  30minInterval                      13311 non-null  object        \n",
            " 13  title                              13311 non-null  object        \n",
            " 14  score                              13311 non-null  float64       \n",
            " 15  id                                 13311 non-null  object        \n",
            " 16  url                                13311 non-null  object        \n",
            " 17  comms_num                          13311 non-null  float64       \n",
            " 18  created                            13311 non-null  float64       \n",
            " 19  body                               13311 non-null  object        \n",
            " 20  timestamp                          13308 non-null  datetime64[ns]\n",
            " 21  TitlePolarity                      13308 non-null  float64       \n",
            " 22  TitleSubjectivity                  13308 non-null  float64       \n",
            " 23  BodyPolarity                       13308 non-null  float64       \n",
            " 24  BodySubjectivity                   13308 non-null  float64       \n",
            " 25  time_y                             13308 non-null  object        \n",
            " 26  marketpost                         13308 non-null  float64       \n",
            "dtypes: datetime64[ns](3), float64(17), object(7)\n",
            "memory usage: 2.7+ MB\n"
          ],
          "name": "stdout"
        }
      ]
    },
    {
      "cell_type": "code",
      "metadata": {
        "colab": {
          "base_uri": "https://localhost:8080/",
          "height": 673
        },
        "id": "u4dcQhKDNfSC",
        "outputId": "be352d1f-99ff-4044-e56f-cf93b6c5564c"
      },
      "source": [
        "data.head()"
      ],
      "execution_count": 170,
      "outputs": [
        {
          "output_type": "execute_result",
          "data": {
            "text/html": [
              "<div>\n",
              "<style scoped>\n",
              "    .dataframe tbody tr th:only-of-type {\n",
              "        vertical-align: middle;\n",
              "    }\n",
              "\n",
              "    .dataframe tbody tr th {\n",
              "        vertical-align: top;\n",
              "    }\n",
              "\n",
              "    .dataframe thead th {\n",
              "        text-align: right;\n",
              "    }\n",
              "</style>\n",
              "<table border=\"1\" class=\"dataframe\">\n",
              "  <thead>\n",
              "    <tr style=\"text-align: right;\">\n",
              "      <th></th>\n",
              "      <th>time_x</th>\n",
              "      <th>open</th>\n",
              "      <th>high</th>\n",
              "      <th>low</th>\n",
              "      <th>close</th>\n",
              "      <th>volume</th>\n",
              "      <th>week_day</th>\n",
              "      <th>Time</th>\n",
              "      <th>NYSE:GME: (United States)</th>\n",
              "      <th>r/WallStreetBets: (United States)</th>\n",
              "      <th>market_cap</th>\n",
              "      <th>date</th>\n",
              "      <th>30minInterval</th>\n",
              "      <th>title</th>\n",
              "      <th>score</th>\n",
              "      <th>id</th>\n",
              "      <th>url</th>\n",
              "      <th>comms_num</th>\n",
              "      <th>created</th>\n",
              "      <th>body</th>\n",
              "      <th>timestamp</th>\n",
              "      <th>TitlePolarity</th>\n",
              "      <th>TitleSubjectivity</th>\n",
              "      <th>BodyPolarity</th>\n",
              "      <th>BodySubjectivity</th>\n",
              "      <th>time_y</th>\n",
              "      <th>marketpost</th>\n",
              "    </tr>\n",
              "  </thead>\n",
              "  <tbody>\n",
              "    <tr>\n",
              "      <th>0</th>\n",
              "      <td>2021-01-28 20:00:00</td>\n",
              "      <td>313.89</td>\n",
              "      <td>327.0</td>\n",
              "      <td>305.99</td>\n",
              "      <td>311.99</td>\n",
              "      <td>314788.0</td>\n",
              "      <td>5.0</td>\n",
              "      <td>20:00:00</td>\n",
              "      <td>100.0</td>\n",
              "      <td>56.0</td>\n",
              "      <td>98210708.12</td>\n",
              "      <td>2021-01-28</td>\n",
              "      <td>20.00-20.29</td>\n",
              "      <td>They're trying to say this was all done by 'Na...</td>\n",
              "      <td>972.0</td>\n",
              "      <td>l6tfyh</td>\n",
              "      <td>https://i.redd.it/37okz5nhu1e61.png</td>\n",
              "      <td>274.0</td>\n",
              "      <td>1.611858e+09</td>\n",
              "      <td>Not Disclosed</td>\n",
              "      <td>2021-01-28 20:21:00</td>\n",
              "      <td>0.00</td>\n",
              "      <td>0.00</td>\n",
              "      <td>0.000000</td>\n",
              "      <td>0.000000</td>\n",
              "      <td>20:21:46</td>\n",
              "      <td>0.0</td>\n",
              "    </tr>\n",
              "    <tr>\n",
              "      <th>1</th>\n",
              "      <td>2021-01-28 20:00:00</td>\n",
              "      <td>313.89</td>\n",
              "      <td>327.0</td>\n",
              "      <td>305.99</td>\n",
              "      <td>311.99</td>\n",
              "      <td>314788.0</td>\n",
              "      <td>5.0</td>\n",
              "      <td>20:00:00</td>\n",
              "      <td>100.0</td>\n",
              "      <td>56.0</td>\n",
              "      <td>98210708.12</td>\n",
              "      <td>2021-01-28</td>\n",
              "      <td>20.00-20.29</td>\n",
              "      <td>My brokerage wants to force close my GME calls</td>\n",
              "      <td>560.0</td>\n",
              "      <td>l6te9s</td>\n",
              "      <td>https://www.reddit.com/r/wallstreetbets/commen...</td>\n",
              "      <td>215.0</td>\n",
              "      <td>1.611858e+09</td>\n",
              "      <td>My brokerage called me and asked me to close m...</td>\n",
              "      <td>2021-01-28 20:18:00</td>\n",
              "      <td>0.20</td>\n",
              "      <td>0.10</td>\n",
              "      <td>0.030202</td>\n",
              "      <td>0.420536</td>\n",
              "      <td>20:18:32</td>\n",
              "      <td>0.0</td>\n",
              "    </tr>\n",
              "    <tr>\n",
              "      <th>2</th>\n",
              "      <td>2021-01-28 20:00:00</td>\n",
              "      <td>313.89</td>\n",
              "      <td>327.0</td>\n",
              "      <td>305.99</td>\n",
              "      <td>311.99</td>\n",
              "      <td>314788.0</td>\n",
              "      <td>5.0</td>\n",
              "      <td>20:00:00</td>\n",
              "      <td>100.0</td>\n",
              "      <td>56.0</td>\n",
              "      <td>98210708.12</td>\n",
              "      <td>2021-01-28</td>\n",
              "      <td>20.00-20.29</td>\n",
              "      <td>Guys i just want to say , i never been more pr...</td>\n",
              "      <td>1452.0</td>\n",
              "      <td>l6tdfc</td>\n",
              "      <td>https://www.reddit.com/r/wallstreetbets/commen...</td>\n",
              "      <td>189.0</td>\n",
              "      <td>1.611858e+09</td>\n",
              "      <td>Not Disclosed</td>\n",
              "      <td>2021-01-28 20:17:00</td>\n",
              "      <td>0.65</td>\n",
              "      <td>0.75</td>\n",
              "      <td>0.000000</td>\n",
              "      <td>0.000000</td>\n",
              "      <td>20:17:02</td>\n",
              "      <td>0.0</td>\n",
              "    </tr>\n",
              "    <tr>\n",
              "      <th>3</th>\n",
              "      <td>2021-01-28 20:00:00</td>\n",
              "      <td>313.89</td>\n",
              "      <td>327.0</td>\n",
              "      <td>305.99</td>\n",
              "      <td>311.99</td>\n",
              "      <td>314788.0</td>\n",
              "      <td>5.0</td>\n",
              "      <td>20:00:00</td>\n",
              "      <td>100.0</td>\n",
              "      <td>56.0</td>\n",
              "      <td>98210708.12</td>\n",
              "      <td>2021-01-28</td>\n",
              "      <td>20.00-20.29</td>\n",
              "      <td>Iacta alea est</td>\n",
              "      <td>133.0</td>\n",
              "      <td>l6td49</td>\n",
              "      <td>https://www.reddit.com/r/wallstreetbets/commen...</td>\n",
              "      <td>30.0</td>\n",
              "      <td>1.611858e+09</td>\n",
              "      <td>I was the lucky one in my family.  In 2008 I w...</td>\n",
              "      <td>2021-01-28 20:16:00</td>\n",
              "      <td>0.00</td>\n",
              "      <td>0.00</td>\n",
              "      <td>0.097564</td>\n",
              "      <td>0.484167</td>\n",
              "      <td>20:16:28</td>\n",
              "      <td>0.0</td>\n",
              "    </tr>\n",
              "    <tr>\n",
              "      <th>4</th>\n",
              "      <td>2021-01-28 20:00:00</td>\n",
              "      <td>313.89</td>\n",
              "      <td>327.0</td>\n",
              "      <td>305.99</td>\n",
              "      <td>311.99</td>\n",
              "      <td>314788.0</td>\n",
              "      <td>5.0</td>\n",
              "      <td>20:00:00</td>\n",
              "      <td>100.0</td>\n",
              "      <td>56.0</td>\n",
              "      <td>98210708.12</td>\n",
              "      <td>2021-01-28</td>\n",
              "      <td>20.00-20.29</td>\n",
              "      <td>Rocketship to Mars!</td>\n",
              "      <td>215.0</td>\n",
              "      <td>l6tbye</td>\n",
              "      <td>https://www.reddit.com/r/wallstreetbets/commen...</td>\n",
              "      <td>90.0</td>\n",
              "      <td>1.611858e+09</td>\n",
              "      <td># Hold/Buy until GME marketcap is higher than ...</td>\n",
              "      <td>2021-01-28 20:14:00</td>\n",
              "      <td>0.00</td>\n",
              "      <td>0.00</td>\n",
              "      <td>1.000000</td>\n",
              "      <td>0.500000</td>\n",
              "      <td>20:14:23</td>\n",
              "      <td>0.0</td>\n",
              "    </tr>\n",
              "  </tbody>\n",
              "</table>\n",
              "</div>"
            ],
            "text/plain": [
              "               time_x    open   high  ...  BodySubjectivity    time_y  marketpost\n",
              "0 2021-01-28 20:00:00  313.89  327.0  ...          0.000000  20:21:46         0.0\n",
              "1 2021-01-28 20:00:00  313.89  327.0  ...          0.420536  20:18:32         0.0\n",
              "2 2021-01-28 20:00:00  313.89  327.0  ...          0.000000  20:17:02         0.0\n",
              "3 2021-01-28 20:00:00  313.89  327.0  ...          0.484167  20:16:28         0.0\n",
              "4 2021-01-28 20:00:00  313.89  327.0  ...          0.500000  20:14:23         0.0\n",
              "\n",
              "[5 rows x 27 columns]"
            ]
          },
          "metadata": {
            "tags": []
          },
          "execution_count": 170
        }
      ]
    },
    {
      "cell_type": "code",
      "metadata": {
        "id": "u2vuT1AuubnY"
      },
      "source": [
        "data.dropna(inplace=True)"
      ],
      "execution_count": 171,
      "outputs": []
    },
    {
      "cell_type": "code",
      "metadata": {
        "id": "qg039Uj6_5ze"
      },
      "source": [
        "data['date']= pd.to_datetime(data['date'],infer_datetime_format=True)\n",
        "data['date']=data['date'].apply(lambda x: x.toordinal())"
      ],
      "execution_count": 172,
      "outputs": []
    },
    {
      "cell_type": "code",
      "metadata": {
        "id": "UG0g9MxkNg8z"
      },
      "source": [
        "data.drop(['id','url','created','body','title','Time','timestamp','time_y'],axis=1, inplace=True)"
      ],
      "execution_count": 173,
      "outputs": []
    },
    {
      "cell_type": "code",
      "metadata": {
        "id": "1bPj8zJH-Jmn"
      },
      "source": [
        "#call the formula on the 30minIntervalColumn using:\n",
        "\n",
        "data['30minInterval']= data['30minInterval'].apply(lambda x: fix_bins(x))"
      ],
      "execution_count": 174,
      "outputs": []
    },
    {
      "cell_type": "code",
      "metadata": {
        "colab": {
          "base_uri": "https://localhost:8080/"
        },
        "id": "05wcCn095gcF",
        "outputId": "5f1db0e2-69b3-4e04-9c74-cbce9ce4623b"
      },
      "source": [
        "data.info()"
      ],
      "execution_count": 175,
      "outputs": [
        {
          "output_type": "stream",
          "text": [
            "<class 'pandas.core.frame.DataFrame'>\n",
            "Int64Index: 13308 entries, 0 to 13313\n",
            "Data columns (total 19 columns):\n",
            " #   Column                             Non-Null Count  Dtype         \n",
            "---  ------                             --------------  -----         \n",
            " 0   time_x                             13308 non-null  datetime64[ns]\n",
            " 1   open                               13308 non-null  float64       \n",
            " 2   high                               13308 non-null  float64       \n",
            " 3   low                                13308 non-null  float64       \n",
            " 4   close                              13308 non-null  float64       \n",
            " 5   volume                             13308 non-null  float64       \n",
            " 6   week_day                           13308 non-null  float64       \n",
            " 7   NYSE:GME: (United States)          13308 non-null  float64       \n",
            " 8   r/WallStreetBets: (United States)  13308 non-null  float64       \n",
            " 9   market_cap                         13308 non-null  float64       \n",
            " 10  date                               13308 non-null  int64         \n",
            " 11  30minInterval                      13308 non-null  int64         \n",
            " 12  score                              13308 non-null  float64       \n",
            " 13  comms_num                          13308 non-null  float64       \n",
            " 14  TitlePolarity                      13308 non-null  float64       \n",
            " 15  TitleSubjectivity                  13308 non-null  float64       \n",
            " 16  BodyPolarity                       13308 non-null  float64       \n",
            " 17  BodySubjectivity                   13308 non-null  float64       \n",
            " 18  marketpost                         13308 non-null  float64       \n",
            "dtypes: datetime64[ns](1), float64(16), int64(2)\n",
            "memory usage: 2.0 MB\n"
          ],
          "name": "stdout"
        }
      ]
    },
    {
      "cell_type": "code",
      "metadata": {
        "colab": {
          "base_uri": "https://localhost:8080/",
          "height": 430
        },
        "id": "7JoNY9WMlqip",
        "outputId": "6f66bd6f-9184-44d7-c067-35b0347cd477"
      },
      "source": [
        "#levearge the known temp to predict the next temp \n",
        "#shift the temp column by one\n",
        "data['Target'] = data.close.shift(1)\n",
        "\n",
        "#need to delete the first row in the dataframe because it has not prevTemp\n",
        "data = data[1:].copy()\n",
        "\n",
        "#look now at your dataset\n",
        "data.head()"
      ],
      "execution_count": 176,
      "outputs": [
        {
          "output_type": "execute_result",
          "data": {
            "text/html": [
              "<div>\n",
              "<style scoped>\n",
              "    .dataframe tbody tr th:only-of-type {\n",
              "        vertical-align: middle;\n",
              "    }\n",
              "\n",
              "    .dataframe tbody tr th {\n",
              "        vertical-align: top;\n",
              "    }\n",
              "\n",
              "    .dataframe thead th {\n",
              "        text-align: right;\n",
              "    }\n",
              "</style>\n",
              "<table border=\"1\" class=\"dataframe\">\n",
              "  <thead>\n",
              "    <tr style=\"text-align: right;\">\n",
              "      <th></th>\n",
              "      <th>time_x</th>\n",
              "      <th>open</th>\n",
              "      <th>high</th>\n",
              "      <th>low</th>\n",
              "      <th>close</th>\n",
              "      <th>volume</th>\n",
              "      <th>week_day</th>\n",
              "      <th>NYSE:GME: (United States)</th>\n",
              "      <th>r/WallStreetBets: (United States)</th>\n",
              "      <th>market_cap</th>\n",
              "      <th>date</th>\n",
              "      <th>30minInterval</th>\n",
              "      <th>score</th>\n",
              "      <th>comms_num</th>\n",
              "      <th>TitlePolarity</th>\n",
              "      <th>TitleSubjectivity</th>\n",
              "      <th>BodyPolarity</th>\n",
              "      <th>BodySubjectivity</th>\n",
              "      <th>marketpost</th>\n",
              "      <th>Target</th>\n",
              "    </tr>\n",
              "  </thead>\n",
              "  <tbody>\n",
              "    <tr>\n",
              "      <th>1</th>\n",
              "      <td>2021-01-28 20:00:00</td>\n",
              "      <td>313.89</td>\n",
              "      <td>327.0</td>\n",
              "      <td>305.99</td>\n",
              "      <td>311.99</td>\n",
              "      <td>314788.0</td>\n",
              "      <td>5.0</td>\n",
              "      <td>100.0</td>\n",
              "      <td>56.0</td>\n",
              "      <td>98210708.12</td>\n",
              "      <td>737818</td>\n",
              "      <td>40</td>\n",
              "      <td>560.0</td>\n",
              "      <td>215.0</td>\n",
              "      <td>0.20</td>\n",
              "      <td>0.10</td>\n",
              "      <td>0.030202</td>\n",
              "      <td>0.420536</td>\n",
              "      <td>0.0</td>\n",
              "      <td>311.99</td>\n",
              "    </tr>\n",
              "    <tr>\n",
              "      <th>2</th>\n",
              "      <td>2021-01-28 20:00:00</td>\n",
              "      <td>313.89</td>\n",
              "      <td>327.0</td>\n",
              "      <td>305.99</td>\n",
              "      <td>311.99</td>\n",
              "      <td>314788.0</td>\n",
              "      <td>5.0</td>\n",
              "      <td>100.0</td>\n",
              "      <td>56.0</td>\n",
              "      <td>98210708.12</td>\n",
              "      <td>737818</td>\n",
              "      <td>40</td>\n",
              "      <td>1452.0</td>\n",
              "      <td>189.0</td>\n",
              "      <td>0.65</td>\n",
              "      <td>0.75</td>\n",
              "      <td>0.000000</td>\n",
              "      <td>0.000000</td>\n",
              "      <td>0.0</td>\n",
              "      <td>311.99</td>\n",
              "    </tr>\n",
              "    <tr>\n",
              "      <th>3</th>\n",
              "      <td>2021-01-28 20:00:00</td>\n",
              "      <td>313.89</td>\n",
              "      <td>327.0</td>\n",
              "      <td>305.99</td>\n",
              "      <td>311.99</td>\n",
              "      <td>314788.0</td>\n",
              "      <td>5.0</td>\n",
              "      <td>100.0</td>\n",
              "      <td>56.0</td>\n",
              "      <td>98210708.12</td>\n",
              "      <td>737818</td>\n",
              "      <td>40</td>\n",
              "      <td>133.0</td>\n",
              "      <td>30.0</td>\n",
              "      <td>0.00</td>\n",
              "      <td>0.00</td>\n",
              "      <td>0.097564</td>\n",
              "      <td>0.484167</td>\n",
              "      <td>0.0</td>\n",
              "      <td>311.99</td>\n",
              "    </tr>\n",
              "    <tr>\n",
              "      <th>4</th>\n",
              "      <td>2021-01-28 20:00:00</td>\n",
              "      <td>313.89</td>\n",
              "      <td>327.0</td>\n",
              "      <td>305.99</td>\n",
              "      <td>311.99</td>\n",
              "      <td>314788.0</td>\n",
              "      <td>5.0</td>\n",
              "      <td>100.0</td>\n",
              "      <td>56.0</td>\n",
              "      <td>98210708.12</td>\n",
              "      <td>737818</td>\n",
              "      <td>40</td>\n",
              "      <td>215.0</td>\n",
              "      <td>90.0</td>\n",
              "      <td>0.00</td>\n",
              "      <td>0.00</td>\n",
              "      <td>1.000000</td>\n",
              "      <td>0.500000</td>\n",
              "      <td>0.0</td>\n",
              "      <td>311.99</td>\n",
              "    </tr>\n",
              "    <tr>\n",
              "      <th>5</th>\n",
              "      <td>2021-01-28 20:00:00</td>\n",
              "      <td>313.89</td>\n",
              "      <td>327.0</td>\n",
              "      <td>305.99</td>\n",
              "      <td>311.99</td>\n",
              "      <td>314788.0</td>\n",
              "      <td>5.0</td>\n",
              "      <td>100.0</td>\n",
              "      <td>56.0</td>\n",
              "      <td>98210708.12</td>\n",
              "      <td>737818</td>\n",
              "      <td>40</td>\n",
              "      <td>331.0</td>\n",
              "      <td>94.0</td>\n",
              "      <td>0.00</td>\n",
              "      <td>0.00</td>\n",
              "      <td>-0.037500</td>\n",
              "      <td>0.496528</td>\n",
              "      <td>0.0</td>\n",
              "      <td>311.99</td>\n",
              "    </tr>\n",
              "  </tbody>\n",
              "</table>\n",
              "</div>"
            ],
            "text/plain": [
              "               time_x    open   high  ...  BodySubjectivity  marketpost  Target\n",
              "1 2021-01-28 20:00:00  313.89  327.0  ...          0.420536         0.0  311.99\n",
              "2 2021-01-28 20:00:00  313.89  327.0  ...          0.000000         0.0  311.99\n",
              "3 2021-01-28 20:00:00  313.89  327.0  ...          0.484167         0.0  311.99\n",
              "4 2021-01-28 20:00:00  313.89  327.0  ...          0.500000         0.0  311.99\n",
              "5 2021-01-28 20:00:00  313.89  327.0  ...          0.496528         0.0  311.99\n",
              "\n",
              "[5 rows x 20 columns]"
            ]
          },
          "metadata": {
            "tags": []
          },
          "execution_count": 176
        }
      ]
    },
    {
      "cell_type": "code",
      "metadata": {
        "id": "Vmvq-hscmcak"
      },
      "source": [
        "data.set_index('time_x', inplace=True)"
      ],
      "execution_count": 177,
      "outputs": []
    },
    {
      "cell_type": "code",
      "metadata": {
        "id": "5emNuVEYmqDK"
      },
      "source": [
        "data.sort_index(ascending=True,inplace=True)"
      ],
      "execution_count": 178,
      "outputs": []
    },
    {
      "cell_type": "code",
      "metadata": {
        "id": "sCydKEiwmuL1"
      },
      "source": [
        "data=data.drop('close',axis=1)"
      ],
      "execution_count": 179,
      "outputs": []
    },
    {
      "cell_type": "code",
      "metadata": {
        "colab": {
          "base_uri": "https://localhost:8080/"
        },
        "id": "29Hy32KWm399",
        "outputId": "113b150c-cb46-4705-b3e0-c40591bffcf5"
      },
      "source": [
        "#Set a value for the number of predictions the model should make\n",
        "NUM_PREDICTIONS = 3\n",
        "\n",
        "#For demonstrations purposes, keep the predictions aside so you can evaluate the results\n",
        "toPredict = data[-NUM_PREDICTIONS:].copy()\n",
        "\n",
        "#remove future predictions from dataset\n",
        "data = data[:-NUM_PREDICTIONS].copy() #two separate dataframe\n",
        "\n",
        "toPredict.shape, data.shape"
      ],
      "execution_count": 180,
      "outputs": [
        {
          "output_type": "execute_result",
          "data": {
            "text/plain": [
              "((3, 18), (13304, 18))"
            ]
          },
          "metadata": {
            "tags": []
          },
          "execution_count": 180
        }
      ]
    },
    {
      "cell_type": "code",
      "metadata": {
        "colab": {
          "base_uri": "https://localhost:8080/"
        },
        "id": "W08JO5oEnBD0",
        "outputId": "caea469d-cdbb-45a6-e95d-36c5d938f596"
      },
      "source": [
        "#split into train and test sets\n",
        "X_train, X_test, y_train, y_test = train_test_split(data.drop(['Target'],axis=1), data.Target, test_size=0.20, random_state=42, shuffle = False)\n",
        "\n",
        "#let's see what we have\n",
        "X_train.shape, X_test.shape, y_train.shape"
      ],
      "execution_count": 181,
      "outputs": [
        {
          "output_type": "execute_result",
          "data": {
            "text/plain": [
              "((10643, 17), (2661, 17), (10643,))"
            ]
          },
          "metadata": {
            "tags": []
          },
          "execution_count": 181
        }
      ]
    },
    {
      "cell_type": "code",
      "metadata": {
        "id": "eH42UQOrnJd_"
      },
      "source": [
        "#no categorical attributes for this data set (nice to have in case data changes)\n",
        "cat_attribs = []\n",
        "\n",
        "#set the numerical attributes\n",
        "num_attribs = list( X_train.drop(cat_attribs,axis=1) )\n",
        "\n",
        "#define pipeline for numeric attributes (this code is just a definition)\n",
        "#each numeric attribute will be imputated using the Median strategy\n",
        "#each numeric attribute will be scaled \n",
        "num_pipeline = Pipeline( [\n",
        " ('std_scaler', MinMaxScaler()),   \n",
        "])\n",
        "\n",
        "#define the pipeline process for the data set\n",
        "full_pipeline = ColumnTransformer( [\n",
        "    ('num', num_pipeline, num_attribs),\n",
        "    ('cat', OneHotEncoder(sparse=False), cat_attribs)      #because no categorical attributes, not used \n",
        "])"
      ],
      "execution_count": 182,
      "outputs": []
    },
    {
      "cell_type": "code",
      "metadata": {
        "colab": {
          "base_uri": "https://localhost:8080/"
        },
        "id": "sz0yP7kpoNAk",
        "outputId": "81feda09-e33c-4ff9-8aed-a75c4e917d4e"
      },
      "source": [
        "#create an array of prepared data based on the training data set\n",
        "X_train = full_pipeline.fit_transform( X_train )\n",
        "X_test = full_pipeline.transform(X_test)\n",
        "X_train.shape, X_test.shape"
      ],
      "execution_count": 183,
      "outputs": [
        {
          "output_type": "execute_result",
          "data": {
            "text/plain": [
              "((10643, 17), (2661, 17))"
            ]
          },
          "metadata": {
            "tags": []
          },
          "execution_count": 183
        }
      ]
    },
    {
      "cell_type": "code",
      "metadata": {
        "id": "Y74EiWj0oQNO"
      },
      "source": [
        "#scale the target data\n",
        "yscaler = MinMaxScaler()\n",
        "y_train = yscaler.fit_transform(np.array(y_train).reshape(-1,1))\n",
        "y_test = yscaler.transform(np.array(y_test).reshape(-1,1))"
      ],
      "execution_count": 184,
      "outputs": []
    },
    {
      "cell_type": "markdown",
      "metadata": {
        "id": "GsRtu1ZJBlV7"
      },
      "source": [
        "Establish Baseline"
      ]
    },
    {
      "cell_type": "code",
      "metadata": {
        "colab": {
          "base_uri": "https://localhost:8080/"
        },
        "id": "yOpsiZkZBoXS",
        "outputId": "803de89e-1ef3-4280-9713-5f6c3483f4df"
      },
      "source": [
        "#predcition is based on last observed value\n",
        "pred= yscaler.inverse_transform(y_test[1:,])\n",
        "actual= yscaler.inverse_transform(y_test[:-1,])\n",
        "\n",
        "#calculate the Mean Absolute Error between the prediction and the actual\n",
        "np.mean(keras.losses.mean_absolute_error(pred,actual))"
      ],
      "execution_count": 185,
      "outputs": [
        {
          "output_type": "execute_result",
          "data": {
            "text/plain": [
              "1.83258037593985"
            ]
          },
          "metadata": {
            "tags": []
          },
          "execution_count": 185
        }
      ]
    },
    {
      "cell_type": "code",
      "metadata": {
        "colab": {
          "base_uri": "https://localhost:8080/",
          "height": 265
        },
        "id": "ywklfHvKMszs",
        "outputId": "5ab568e7-5809-4923-fc33-309b6cc3af66"
      },
      "source": [
        "#plot the last 48 instances in the series to see the \"predicted\" shift in temperatures \n",
        "plot_actual_pred (actual[-100:], pred[-100:])"
      ],
      "execution_count": 186,
      "outputs": [
        {
          "output_type": "display_data",
          "data": {
            "image/png": "[encoded data removed]",
            "text/plain": [
              "<Figure size 432x288 with 1 Axes>"
            ]
          },
          "metadata": {
            "tags": [],
            "needs_background": "light"
          }
        }
      ]
    },
    {
      "cell_type": "markdown",
      "metadata": {
        "id": "OggHHqHxNHDT"
      },
      "source": [
        "Linear Regression"
      ]
    },
    {
      "cell_type": "code",
      "metadata": {
        "colab": {
          "base_uri": "https://localhost:8080/"
        },
        "id": "bomagDFhM2mJ",
        "outputId": "f0953e43-9376-4005-dbd7-b8629db3788e"
      },
      "source": [
        "#build the model and fit our data to the model\n",
        "lin_reg = LinearRegression()\n",
        "lin_reg.fit(X_train, y_train)"
      ],
      "execution_count": 187,
      "outputs": [
        {
          "output_type": "execute_result",
          "data": {
            "text/plain": [
              "LinearRegression(copy_X=True, fit_intercept=True, n_jobs=None, normalize=False)"
            ]
          },
          "metadata": {
            "tags": []
          },
          "execution_count": 187
        }
      ]
    },
    {
      "cell_type": "code",
      "metadata": {
        "colab": {
          "base_uri": "https://localhost:8080/"
        },
        "id": "UhcA2naTNIsm",
        "outputId": "aaeca824-c4d8-4d72-b394-ea328031a4bf"
      },
      "source": [
        "#test the model out on the Test data\n",
        "predictions = lin_reg.predict(X_test)\n",
        "pred = yscaler.inverse_transform(predictions)\n",
        "actual = yscaler.inverse_transform(y_test)\n",
        "\n",
        "np.mean(keras.losses.mean_absolute_error(pred[-5:],actual[-5:]))"
      ],
      "execution_count": 188,
      "outputs": [
        {
          "output_type": "execute_result",
          "data": {
            "text/plain": [
              "4.982637593170091"
            ]
          },
          "metadata": {
            "tags": []
          },
          "execution_count": 188
        }
      ]
    },
    {
      "cell_type": "code",
      "metadata": {
        "colab": {
          "base_uri": "https://localhost:8080/",
          "height": 265
        },
        "id": "pyBFDAw4NLBi",
        "outputId": "20d7d2f2-c707-4465-e031-d303af326653"
      },
      "source": [
        "plot_actual_pred (actual[-100:], pred[-100:])"
      ],
      "execution_count": 189,
      "outputs": [
        {
          "output_type": "display_data",
          "data": {
            "image/png": "[encoded data removed]",
            "text/plain": [
              "<Figure size 432x288 with 1 Axes>"
            ]
          },
          "metadata": {
            "tags": [],
            "needs_background": "light"
          }
        }
      ]
    },
    {
      "cell_type": "markdown",
      "metadata": {
        "id": "cZaX4YmMNTeY"
      },
      "source": [
        "Simple Neural Network"
      ]
    },
    {
      "cell_type": "code",
      "metadata": {
        "id": "wi0NJDyqNV3O"
      },
      "source": [
        "#starting by setting random seeds and restarting keras blackend session\n",
        "np.random.seed(42)\n",
        "tf.random.set_seed(42)\n",
        "\n",
        "#resets the Keras global state - helps avoid clutter from old models and layers, especially when memory is limited\n",
        "keras.backend.clear_session()"
      ],
      "execution_count": 330,
      "outputs": []
    },
    {
      "cell_type": "code",
      "metadata": {
        "id": "KhoqxbUtNXhV"
      },
      "source": [
        "#17 original inputs and 1 output so in between 12-34 neurons per layer\n",
        "model = keras.models.Sequential([\n",
        "    keras.layers.Flatten(input_shape=X_train.shape[1:]), \n",
        "    keras.layers.Dense(30, activation=\"relu\"), \n",
        "    keras.layers.Dense(10, activation=\"relu\"),\n",
        "    keras.layers.Dense(1) \n",
        "])"
      ],
      "execution_count": 331,
      "outputs": []
    },
    {
      "cell_type": "code",
      "metadata": {
        "id": "b3CELVGbNpa7"
      },
      "source": [
        "#compile the model\n",
        "model.compile(loss=\"mean_absolute_error\", optimizer=keras.optimizers.Adam(lr=.00001))"
      ],
      "execution_count": 332,
      "outputs": []
    },
    {
      "cell_type": "code",
      "metadata": {
        "id": "U7gVZ_4qNrsM"
      },
      "source": [
        "early_stopping = keras.callbacks.EarlyStopping(monitor=\"val_loss\", patience=2, mode='min')"
      ],
      "execution_count": 333,
      "outputs": []
    },
    {
      "cell_type": "code",
      "metadata": {
        "colab": {
          "base_uri": "https://localhost:8080/"
        },
        "id": "dHAD8I44NtcE",
        "outputId": "ed603e55-cdc3-4dd5-a9aa-7c6d3972e17e"
      },
      "source": [
        "#fit the model\n",
        "history = model.fit(X_train, y_train, epochs=100,\n",
        "                    validation_split=.2, shuffle=False, batch_size=15, callbacks=[early_stopping])"
      ],
      "execution_count": 334,
      "outputs": [
        {
          "output_type": "stream",
          "text": [
            "Epoch 1/100\n",
            "568/568 [==============================] - 1s 2ms/step - loss: 0.5462 - val_loss: 0.3219\n",
            "Epoch 2/100\n",
            "568/568 [==============================] - 1s 1ms/step - loss: 0.4993 - val_loss: 0.2832\n",
            "Epoch 3/100\n",
            "568/568 [==============================] - 1s 1ms/step - loss: 0.4665 - val_loss: 0.2565\n",
            "Epoch 4/100\n",
            "568/568 [==============================] - 1s 1ms/step - loss: 0.4418 - val_loss: 0.2392\n",
            "Epoch 5/100\n",
            "568/568 [==============================] - 1s 1ms/step - loss: 0.4234 - val_loss: 0.2278\n",
            "Epoch 6/100\n",
            "568/568 [==============================] - 1s 1ms/step - loss: 0.4087 - val_loss: 0.2192\n",
            "Epoch 7/100\n",
            "568/568 [==============================] - 1s 1ms/step - loss: 0.3959 - val_loss: 0.2121\n",
            "Epoch 8/100\n",
            "568/568 [==============================] - 1s 1ms/step - loss: 0.3844 - val_loss: 0.2062\n",
            "Epoch 9/100\n",
            "568/568 [==============================] - 1s 1ms/step - loss: 0.3741 - val_loss: 0.2016\n",
            "Epoch 10/100\n",
            "568/568 [==============================] - 1s 1ms/step - loss: 0.3645 - val_loss: 0.1976\n",
            "Epoch 11/100\n",
            "568/568 [==============================] - 1s 1ms/step - loss: 0.3549 - val_loss: 0.1943\n",
            "Epoch 12/100\n",
            "568/568 [==============================] - 1s 1ms/step - loss: 0.3453 - val_loss: 0.1917\n",
            "Epoch 13/100\n",
            "568/568 [==============================] - 1s 1ms/step - loss: 0.3358 - val_loss: 0.1883\n",
            "Epoch 14/100\n",
            "568/568 [==============================] - 1s 1ms/step - loss: 0.3256 - val_loss: 0.1854\n",
            "Epoch 15/100\n",
            "568/568 [==============================] - 1s 1ms/step - loss: 0.3150 - val_loss: 0.1825\n",
            "Epoch 16/100\n",
            "568/568 [==============================] - 1s 1ms/step - loss: 0.3042 - val_loss: 0.1792\n",
            "Epoch 17/100\n",
            "568/568 [==============================] - 1s 1ms/step - loss: 0.2930 - val_loss: 0.1753\n",
            "Epoch 18/100\n",
            "568/568 [==============================] - 1s 1ms/step - loss: 0.2815 - val_loss: 0.1714\n",
            "Epoch 19/100\n",
            "568/568 [==============================] - 1s 1ms/step - loss: 0.2697 - val_loss: 0.1674\n",
            "Epoch 20/100\n",
            "568/568 [==============================] - 1s 1ms/step - loss: 0.2582 - val_loss: 0.1633\n",
            "Epoch 21/100\n",
            "568/568 [==============================] - 1s 1ms/step - loss: 0.2468 - val_loss: 0.1592\n",
            "Epoch 22/100\n",
            "568/568 [==============================] - 1s 1ms/step - loss: 0.2352 - val_loss: 0.1557\n",
            "Epoch 23/100\n",
            "568/568 [==============================] - 1s 1ms/step - loss: 0.2240 - val_loss: 0.1519\n",
            "Epoch 24/100\n",
            "568/568 [==============================] - 1s 1ms/step - loss: 0.2131 - val_loss: 0.1482\n",
            "Epoch 25/100\n",
            "568/568 [==============================] - 1s 1ms/step - loss: 0.2026 - val_loss: 0.1442\n",
            "Epoch 26/100\n",
            "568/568 [==============================] - 1s 1ms/step - loss: 0.1922 - val_loss: 0.1402\n",
            "Epoch 27/100\n",
            "568/568 [==============================] - 1s 1ms/step - loss: 0.1822 - val_loss: 0.1363\n",
            "Epoch 28/100\n",
            "568/568 [==============================] - 1s 1ms/step - loss: 0.1727 - val_loss: 0.1321\n",
            "Epoch 29/100\n",
            "568/568 [==============================] - 1s 1ms/step - loss: 0.1637 - val_loss: 0.1281\n",
            "Epoch 30/100\n",
            "568/568 [==============================] - 1s 1ms/step - loss: 0.1554 - val_loss: 0.1238\n",
            "Epoch 31/100\n",
            "568/568 [==============================] - 1s 1ms/step - loss: 0.1474 - val_loss: 0.1194\n",
            "Epoch 32/100\n",
            "568/568 [==============================] - 1s 1ms/step - loss: 0.1399 - val_loss: 0.1150\n",
            "Epoch 33/100\n",
            "568/568 [==============================] - 1s 1ms/step - loss: 0.1326 - val_loss: 0.1106\n",
            "Epoch 34/100\n",
            "568/568 [==============================] - 1s 1ms/step - loss: 0.1259 - val_loss: 0.1065\n",
            "Epoch 35/100\n",
            "568/568 [==============================] - 1s 1ms/step - loss: 0.1196 - val_loss: 0.1022\n",
            "Epoch 36/100\n",
            "568/568 [==============================] - 1s 1ms/step - loss: 0.1137 - val_loss: 0.0982\n",
            "Epoch 37/100\n",
            "568/568 [==============================] - 1s 1ms/step - loss: 0.1083 - val_loss: 0.0944\n",
            "Epoch 38/100\n",
            "568/568 [==============================] - 1s 1ms/step - loss: 0.1032 - val_loss: 0.0906\n",
            "Epoch 39/100\n",
            "568/568 [==============================] - 1s 1ms/step - loss: 0.0985 - val_loss: 0.0872\n",
            "Epoch 40/100\n",
            "568/568 [==============================] - 1s 1ms/step - loss: 0.0944 - val_loss: 0.0836\n",
            "Epoch 41/100\n",
            "568/568 [==============================] - 1s 1ms/step - loss: 0.0906 - val_loss: 0.0801\n",
            "Epoch 42/100\n",
            "568/568 [==============================] - 1s 1ms/step - loss: 0.0872 - val_loss: 0.0769\n",
            "Epoch 43/100\n",
            "568/568 [==============================] - 1s 1ms/step - loss: 0.0843 - val_loss: 0.0741\n",
            "Epoch 44/100\n",
            "568/568 [==============================] - 1s 1ms/step - loss: 0.0819 - val_loss: 0.0713\n",
            "Epoch 45/100\n",
            "568/568 [==============================] - 1s 1ms/step - loss: 0.0797 - val_loss: 0.0689\n",
            "Epoch 46/100\n",
            "568/568 [==============================] - 1s 1ms/step - loss: 0.0779 - val_loss: 0.0664\n",
            "Epoch 47/100\n",
            "568/568 [==============================] - 1s 1ms/step - loss: 0.0763 - val_loss: 0.0640\n",
            "Epoch 48/100\n",
            "568/568 [==============================] - 1s 1ms/step - loss: 0.0748 - val_loss: 0.0620\n",
            "Epoch 49/100\n",
            "568/568 [==============================] - 1s 1ms/step - loss: 0.0734 - val_loss: 0.0599\n",
            "Epoch 50/100\n",
            "568/568 [==============================] - 1s 1ms/step - loss: 0.0721 - val_loss: 0.0580\n",
            "Epoch 51/100\n",
            "568/568 [==============================] - 1s 1ms/step - loss: 0.0708 - val_loss: 0.0564\n",
            "Epoch 52/100\n",
            "568/568 [==============================] - 1s 1ms/step - loss: 0.0696 - val_loss: 0.0547\n",
            "Epoch 53/100\n",
            "568/568 [==============================] - 1s 1ms/step - loss: 0.0685 - val_loss: 0.0531\n",
            "Epoch 54/100\n",
            "568/568 [==============================] - 1s 1ms/step - loss: 0.0675 - val_loss: 0.0515\n",
            "Epoch 55/100\n",
            "568/568 [==============================] - 1s 1ms/step - loss: 0.0666 - val_loss: 0.0501\n",
            "Epoch 56/100\n",
            "568/568 [==============================] - 1s 1ms/step - loss: 0.0656 - val_loss: 0.0488\n",
            "Epoch 57/100\n",
            "568/568 [==============================] - 1s 1ms/step - loss: 0.0647 - val_loss: 0.0476\n",
            "Epoch 58/100\n",
            "568/568 [==============================] - 1s 2ms/step - loss: 0.0638 - val_loss: 0.0466\n",
            "Epoch 59/100\n",
            "568/568 [==============================] - 1s 1ms/step - loss: 0.0629 - val_loss: 0.0454\n",
            "Epoch 60/100\n",
            "568/568 [==============================] - 1s 1ms/step - loss: 0.0621 - val_loss: 0.0441\n",
            "Epoch 61/100\n",
            "568/568 [==============================] - 1s 1ms/step - loss: 0.0612 - val_loss: 0.0432\n",
            "Epoch 62/100\n",
            "568/568 [==============================] - 1s 1ms/step - loss: 0.0604 - val_loss: 0.0420\n",
            "Epoch 63/100\n",
            "568/568 [==============================] - 1s 2ms/step - loss: 0.0596 - val_loss: 0.0412\n",
            "Epoch 64/100\n",
            "568/568 [==============================] - 1s 1ms/step - loss: 0.0587 - val_loss: 0.0403\n",
            "Epoch 65/100\n",
            "568/568 [==============================] - 1s 1ms/step - loss: 0.0579 - val_loss: 0.0394\n",
            "Epoch 66/100\n",
            "568/568 [==============================] - 1s 1ms/step - loss: 0.0572 - val_loss: 0.0386\n",
            "Epoch 67/100\n",
            "568/568 [==============================] - 1s 1ms/step - loss: 0.0564 - val_loss: 0.0381\n",
            "Epoch 68/100\n",
            "568/568 [==============================] - 1s 1ms/step - loss: 0.0556 - val_loss: 0.0373\n",
            "Epoch 69/100\n",
            "568/568 [==============================] - 1s 1ms/step - loss: 0.0550 - val_loss: 0.0365\n",
            "Epoch 70/100\n",
            "568/568 [==============================] - 1s 1ms/step - loss: 0.0544 - val_loss: 0.0358\n",
            "Epoch 71/100\n",
            "568/568 [==============================] - 1s 1ms/step - loss: 0.0538 - val_loss: 0.0351\n",
            "Epoch 72/100\n",
            "568/568 [==============================] - 1s 1ms/step - loss: 0.0532 - val_loss: 0.0345\n",
            "Epoch 73/100\n",
            "568/568 [==============================] - 1s 1ms/step - loss: 0.0527 - val_loss: 0.0339\n",
            "Epoch 74/100\n",
            "568/568 [==============================] - 1s 1ms/step - loss: 0.0521 - val_loss: 0.0333\n",
            "Epoch 75/100\n",
            "568/568 [==============================] - 1s 1ms/step - loss: 0.0516 - val_loss: 0.0328\n",
            "Epoch 76/100\n",
            "568/568 [==============================] - 1s 1ms/step - loss: 0.0511 - val_loss: 0.0322\n",
            "Epoch 77/100\n",
            "568/568 [==============================] - 1s 1ms/step - loss: 0.0506 - val_loss: 0.0317\n",
            "Epoch 78/100\n",
            "568/568 [==============================] - 1s 1ms/step - loss: 0.0502 - val_loss: 0.0312\n",
            "Epoch 79/100\n",
            "568/568 [==============================] - 1s 1ms/step - loss: 0.0497 - val_loss: 0.0307\n",
            "Epoch 80/100\n",
            "568/568 [==============================] - 1s 1ms/step - loss: 0.0493 - val_loss: 0.0303\n",
            "Epoch 81/100\n",
            "568/568 [==============================] - 1s 1ms/step - loss: 0.0488 - val_loss: 0.0299\n",
            "Epoch 82/100\n",
            "568/568 [==============================] - 1s 1ms/step - loss: 0.0484 - val_loss: 0.0295\n",
            "Epoch 83/100\n",
            "568/568 [==============================] - 1s 1ms/step - loss: 0.0480 - val_loss: 0.0291\n",
            "Epoch 84/100\n",
            "568/568 [==============================] - 1s 1ms/step - loss: 0.0476 - val_loss: 0.0288\n",
            "Epoch 85/100\n",
            "568/568 [==============================] - 1s 2ms/step - loss: 0.0472 - val_loss: 0.0284\n",
            "Epoch 86/100\n",
            "568/568 [==============================] - 1s 1ms/step - loss: 0.0468 - val_loss: 0.0280\n",
            "Epoch 87/100\n",
            "568/568 [==============================] - 1s 1ms/step - loss: 0.0464 - val_loss: 0.0277\n",
            "Epoch 88/100\n",
            "568/568 [==============================] - 1s 1ms/step - loss: 0.0460 - val_loss: 0.0274\n",
            "Epoch 89/100\n",
            "568/568 [==============================] - 1s 1ms/step - loss: 0.0456 - val_loss: 0.0271\n",
            "Epoch 90/100\n",
            "568/568 [==============================] - 1s 2ms/step - loss: 0.0452 - val_loss: 0.0268\n",
            "Epoch 91/100\n",
            "568/568 [==============================] - 1s 1ms/step - loss: 0.0449 - val_loss: 0.0265\n",
            "Epoch 92/100\n",
            "568/568 [==============================] - 1s 1ms/step - loss: 0.0446 - val_loss: 0.0263\n",
            "Epoch 93/100\n",
            "568/568 [==============================] - 1s 1ms/step - loss: 0.0443 - val_loss: 0.0260\n",
            "Epoch 94/100\n",
            "568/568 [==============================] - 1s 1ms/step - loss: 0.0440 - val_loss: 0.0258\n",
            "Epoch 95/100\n",
            "568/568 [==============================] - 1s 1ms/step - loss: 0.0438 - val_loss: 0.0256\n",
            "Epoch 96/100\n",
            "568/568 [==============================] - 1s 1ms/step - loss: 0.0435 - val_loss: 0.0254\n",
            "Epoch 97/100\n",
            "568/568 [==============================] - 1s 1ms/step - loss: 0.0432 - val_loss: 0.0252\n",
            "Epoch 98/100\n",
            "568/568 [==============================] - 1s 1ms/step - loss: 0.0430 - val_loss: 0.0250\n",
            "Epoch 99/100\n",
            "568/568 [==============================] - 1s 1ms/step - loss: 0.0427 - val_loss: 0.0247\n",
            "Epoch 100/100\n",
            "568/568 [==============================] - 1s 1ms/step - loss: 0.0425 - val_loss: 0.0245\n"
          ],
          "name": "stdout"
        }
      ]
    },
    {
      "cell_type": "code",
      "metadata": {
        "colab": {
          "base_uri": "https://localhost:8080/",
          "height": 334
        },
        "id": "LsOxmYXTNxOL",
        "outputId": "e48c089f-ce57-49a9-8a3c-bf58c623224a"
      },
      "source": [
        "#plot the learning curve of the model; overfitting\n",
        "plot_learning_curve(history)\n",
        "plt.show()"
      ],
      "execution_count": 335,
      "outputs": [
        {
          "output_type": "display_data",
          "data": {
            "image/png": "[encoded data removed]",
            "text/plain": [
              "<Figure size 576x360 with 1 Axes>"
            ]
          },
          "metadata": {
            "tags": [],
            "needs_background": "light"
          }
        }
      ]
    },
    {
      "cell_type": "code",
      "metadata": {
        "colab": {
          "base_uri": "https://localhost:8080/"
        },
        "id": "kpxD3J77N_b5",
        "outputId": "a875e970-2dc0-4a20-fa58-dac48e32fc62"
      },
      "source": [
        "#predict the test data set\n",
        "y_pred = model.predict(X_test)\n",
        "\n",
        "#scale predicted and actuals\n",
        "pred = yscaler.inverse_transform( y_pred )\n",
        "actual = yscaler.inverse_transform(y_test)\n",
        "\n",
        "#calculate the Mean Absolute Error using the scaled values\n",
        "np.mean(keras.losses.mean_absolute_error(pred[-5:],actual[-5:]))"
      ],
      "execution_count": 337,
      "outputs": [
        {
          "output_type": "execute_result",
          "data": {
            "text/plain": [
              "3.662471069335936"
            ]
          },
          "metadata": {
            "tags": []
          },
          "execution_count": 337
        }
      ]
    },
    {
      "cell_type": "code",
      "metadata": {
        "colab": {
          "base_uri": "https://localhost:8080/",
          "height": 265
        },
        "id": "oqgR5X2QOLKE",
        "outputId": "1e23a5da-6e93-4c0d-a358-a2cdefb3db2b"
      },
      "source": [
        "#plot the actuals vs. the predictions\n",
        "plot_actual_pred ( actual[-5:], pred[-5:,0] )"
      ],
      "execution_count": 338,
      "outputs": [
        {
          "output_type": "display_data",
          "data": {
            "image/png": "[encoded data removed]",
            "text/plain": [
              "<Figure size 432x288 with 1 Axes>"
            ]
          },
          "metadata": {
            "tags": [],
            "needs_background": "light"
          }
        }
      ]
    },
    {
      "cell_type": "markdown",
      "metadata": {
        "id": "uVC0_abRO7rs"
      },
      "source": [
        "Predict Future Values"
      ]
    },
    {
      "cell_type": "code",
      "metadata": {
        "id": "iT9RuirEO0hZ"
      },
      "source": [
        "#Prepare future predictions\n",
        "#remember from above some instances were kept and stored into the dataframe called toPredict\n",
        "\n",
        "#prepare the data for the model\n",
        "X_future = full_pipeline.transform( toPredict.drop(['Target'], axis=1) ) #take out solution\n",
        "X_future = X_future.reshape(X_future.shape[0], -1, X_future.shape[1])\n",
        "\n",
        "#preserve the actual values\n",
        "y_future = np.array( toPredict.Target )"
      ],
      "execution_count": 339,
      "outputs": []
    },
    {
      "cell_type": "code",
      "metadata": {
        "id": "HGdDuhs6O_RA",
        "colab": {
          "base_uri": "https://localhost:8080/"
        },
        "outputId": "01ea32a1-808a-4eaf-df48-82f36c60fd45"
      },
      "source": [
        "#Predict using the model\n",
        "y_prediction = model.predict( X_future )\n",
        "\n",
        "#scale the y values\n",
        "y_prediction = yscaler.inverse_transform( y_prediction )"
      ],
      "execution_count": 340,
      "outputs": [
        {
          "output_type": "stream",
          "text": [
            "WARNING:tensorflow:Model was constructed with shape (None, 17) for input KerasTensor(type_spec=TensorSpec(shape=(None, 17), dtype=tf.float32, name='flatten_input'), name='flatten_input', description=\"created by layer 'flatten_input'\"), but it was called on an input with incompatible shape (None, 1, 17).\n"
          ],
          "name": "stdout"
        }
      ]
    },
    {
      "cell_type": "code",
      "metadata": {
        "colab": {
          "base_uri": "https://localhost:8080/"
        },
        "id": "9tBYzj2BPBGU",
        "outputId": "aa3fb429-982a-4be4-8e07-547ec3857056"
      },
      "source": [
        "#calculate the Mean Absolute Error using the scaled values\n",
        "#NOTE: if NUM_PREDICTIONS is > 1, the ,0 is needed to compare the 1st value in the prediction\n",
        "np.mean(keras.losses.mean_absolute_error( y_prediction[-5:], y_future[-5:]) ) "
      ],
      "execution_count": 341,
      "outputs": [
        {
          "output_type": "execute_result",
          "data": {
            "text/plain": [
              "2.9448533799913217"
            ]
          },
          "metadata": {
            "tags": []
          },
          "execution_count": 341
        }
      ]
    },
    {
      "cell_type": "code",
      "metadata": {
        "colab": {
          "base_uri": "https://localhost:8080/"
        },
        "id": "62sjSqd5PDD_",
        "outputId": "abf938cd-4f40-4a37-dea3-48bc76ccedd4"
      },
      "source": [
        "y_future, y_prediction"
      ],
      "execution_count": 342,
      "outputs": [
        {
          "output_type": "execute_result",
          "data": {
            "text/plain": [
              "(array([159. , 164.9, 159. ]), array([[161.824  ],\n",
              "        [161.82431],\n",
              "        [162.15536]], dtype=float32))"
            ]
          },
          "metadata": {
            "tags": []
          },
          "execution_count": 342
        }
      ]
    },
    {
      "cell_type": "code",
      "metadata": {
        "colab": {
          "base_uri": "https://localhost:8080/",
          "height": 265
        },
        "id": "-g9w7xYvPHKV",
        "outputId": "f0b3f52e-0fbe-4cab-af82-ab9ea7a2e253"
      },
      "source": [
        "#plot the actual values as well as future known actuals vs. future predictions\n",
        "#NOTE: if NUM_PREDICTIONS is > 1, the ,0 is needed to only plot the 1st value in the prediction\n",
        "plot_series(actual[-20:], y_future, y_prediction[-20:,0]) "
      ],
      "execution_count": 343,
      "outputs": [
        {
          "output_type": "display_data",
          "data": {
            "image/png": "[encoded data removed]",
            "text/plain": [
              "<Figure size 432x288 with 1 Axes>"
            ]
          },
          "metadata": {
            "tags": [],
            "needs_background": "light"
          }
        }
      ]
    },
    {
      "cell_type": "code",
      "metadata": {
        "id": "qSu-TdXsPN6y"
      },
      "source": [
        ""
      ],
      "execution_count": 202,
      "outputs": []
    }
  ]
}