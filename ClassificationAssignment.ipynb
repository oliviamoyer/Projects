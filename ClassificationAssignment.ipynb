{
 "cells": [
  {
   "cell_type": "code",
   "execution_count": 75,
   "metadata": {},
   "outputs": [],
   "source": [
    "# Olivia Moyer"
   ]
  },
  {
   "cell_type": "code",
   "execution_count": 76,
   "metadata": {},
   "outputs": [],
   "source": [
    "import pandas as pd\n",
    "import numpy as np\n",
    "import matplotlib.pyplot as plt\n",
    "\n",
    "#modules for file imports\n",
    "import os\n",
    "import os.path\n",
    "import urllib\n",
    "\n",
    "#scikit learn imports\n",
    "from sklearn.linear_model import LinearRegression\n",
    "from sklearn.metrics import mean_squared_error, mean_absolute_error\n",
    "from sklearn.model_selection import StratifiedShuffleSplit\n",
    "from sklearn.impute import SimpleImputer\n",
    "from sklearn.preprocessing import OneHotEncoder\n",
    "from sklearn.compose import ColumnTransformer\n",
    "from sklearn.pipeline import Pipeline\n",
    "from sklearn.preprocessing import StandardScaler\n",
    "from sklearn.tree import DecisionTreeRegressor\n",
    "from sklearn.model_selection import cross_val_score\n",
    "from sklearn.ensemble import RandomForestRegressor\n",
    "from sklearn.model_selection import train_test_split\n",
    "from sklearn.linear_model import Ridge\n",
    "from sklearn.linear_model import Lasso\n",
    "from sklearn.linear_model import ElasticNet\n",
    "from sklearn.linear_model import SGDRegressor\n",
    "from pandas.plotting import scatter_matrix\n",
    "from sklearn.model_selection import GridSearchCV\n",
    "from sklearn.preprocessing import OrdinalEncoder\n",
    "from sklearn.linear_model import SGDClassifier, LogisticRegression\n",
    "from sklearn.metrics import accuracy_score, confusion_matrix, f1_score, classification_report\n",
    "from sklearn.model_selection import cross_val_score\n",
    "from sklearn.model_selection import cross_val_predict\n",
    "from sklearn.metrics import precision_score, recall_score, precision_recall_curve, roc_curve, roc_auc_score\n",
    "from sklearn.ensemble import RandomForestClassifier\n",
    "\n",
    "#modules to save data & models\n",
    "import pickle\n",
    "import joblib"
   ]
  },
  {
   "cell_type": "code",
   "execution_count": 77,
   "metadata": {},
   "outputs": [],
   "source": [
    "def plot_precision_recall_vs_threshold(precisions, recalls, thresholds):\n",
    "    plt.plot(thresholds, precisions[:-1], \"b--\", label=\"Precision\", linewidth=2)\n",
    "    plt.plot(thresholds, recalls[:-1], \"g-\", label=\"Recall\", linewidth=2)\n",
    "    plt.legend(loc=\"center right\", fontsize=16) \n",
    "    plt.xlabel(\"Threshold\", fontsize=16)        \n",
    "    plt.grid(True)                              \n",
    "    plt.axis([-50000, 50000, 0, 1])      "
   ]
  },
  {
   "cell_type": "code",
   "execution_count": 78,
   "metadata": {},
   "outputs": [],
   "source": [
    "def plot_precision_vs_recall(precisions, recalls):\n",
    "    plt.plot(recalls, precisions, \"b-\", linewidth=2)\n",
    "    plt.xlabel(\"Recall\", fontsize=16)\n",
    "    plt.ylabel(\"Precision\", fontsize=16)\n",
    "    plt.axis([0, 1, 0, 1])\n",
    "    plt.grid(True)"
   ]
  },
  {
   "cell_type": "code",
   "execution_count": 79,
   "metadata": {},
   "outputs": [],
   "source": [
    "def plot_roc_curve(fpr, tpr, label=None):\n",
    "    plt.plot(fpr, tpr, linewidth=2, label=label)\n",
    "    plt.plot([0, 1], [0, 1], 'k--') # dashed diagonal\n",
    "    plt.axis([0, 1, 0, 1])                                    \n",
    "    plt.xlabel('False Positive Rate (Fall-Out)', fontsize=16) \n",
    "    plt.ylabel('True Positive Rate (Recall)', fontsize=16)    \n",
    "    plt.grid(True)    "
   ]
  },
  {
   "cell_type": "code",
   "execution_count": 80,
   "metadata": {},
   "outputs": [],
   "source": [
    "DOWNLOAD_DIR = \"datasets/\"\n",
    "\n",
    "#downloads 2 needed files from the book's github repository\n",
    "if not (os.path.isfile(DOWNLOAD_DIR+'HireData.csv') and os.path.isfile(DOWNLOAD_DIR+'Predictions.csv') ):\n",
    "    DOWNLOAD_ROOT = \"https://raw.githubusercontent.com/SueMcMetzger/MachineLearning/main/chpt3/\"\n",
    "    for filename in ('HireData.csv', 'Predictions.csv'):\n",
    "        url = DOWNLOAD_ROOT + filename\n",
    "        urllib.request.urlretrieve(url, DOWNLOAD_DIR+filename)\n",
    "        print(\"Downloaded\", filename)    "
   ]
  },
  {
   "cell_type": "code",
   "execution_count": 81,
   "metadata": {},
   "outputs": [],
   "source": [
    "hiredata= pd.read_csv(\"datasets/HireData.csv\")\n",
    "predictions=pd.read_csv(\"datasets/Predictions.csv\")"
   ]
  },
  {
   "cell_type": "code",
   "execution_count": 82,
   "metadata": {},
   "outputs": [
    {
     "data": {
      "text/html": [
       "<div>\n",
       "<style scoped>\n",
       "    .dataframe tbody tr th:only-of-type {\n",
       "        vertical-align: middle;\n",
       "    }\n",
       "\n",
       "    .dataframe tbody tr th {\n",
       "        vertical-align: top;\n",
       "    }\n",
       "\n",
       "    .dataframe thead th {\n",
       "        text-align: right;\n",
       "    }\n",
       "</style>\n",
       "<table border=\"1\" class=\"dataframe\">\n",
       "  <thead>\n",
       "    <tr style=\"text-align: right;\">\n",
       "      <th></th>\n",
       "      <th>enrollee_id</th>\n",
       "      <th>city</th>\n",
       "      <th>city_development_index</th>\n",
       "      <th>gender</th>\n",
       "      <th>relevent_experience</th>\n",
       "      <th>enrolled_university</th>\n",
       "      <th>education_level</th>\n",
       "      <th>major_discipline</th>\n",
       "      <th>experience</th>\n",
       "      <th>company_size</th>\n",
       "      <th>company_type</th>\n",
       "      <th>last_new_job</th>\n",
       "      <th>training_hours</th>\n",
       "      <th>target</th>\n",
       "    </tr>\n",
       "  </thead>\n",
       "  <tbody>\n",
       "    <tr>\n",
       "      <th>0</th>\n",
       "      <td>8949</td>\n",
       "      <td>city_103</td>\n",
       "      <td>0.920</td>\n",
       "      <td>Male</td>\n",
       "      <td>Has relevent experience</td>\n",
       "      <td>no_enrollment</td>\n",
       "      <td>Graduate</td>\n",
       "      <td>STEM</td>\n",
       "      <td>&gt;20</td>\n",
       "      <td>NaN</td>\n",
       "      <td>NaN</td>\n",
       "      <td>1</td>\n",
       "      <td>36</td>\n",
       "      <td>1</td>\n",
       "    </tr>\n",
       "    <tr>\n",
       "      <th>1</th>\n",
       "      <td>29725</td>\n",
       "      <td>city_40</td>\n",
       "      <td>0.776</td>\n",
       "      <td>Male</td>\n",
       "      <td>No relevent experience</td>\n",
       "      <td>no_enrollment</td>\n",
       "      <td>Graduate</td>\n",
       "      <td>STEM</td>\n",
       "      <td>15</td>\n",
       "      <td>50-99</td>\n",
       "      <td>Pvt Ltd</td>\n",
       "      <td>&gt;4</td>\n",
       "      <td>47</td>\n",
       "      <td>0</td>\n",
       "    </tr>\n",
       "    <tr>\n",
       "      <th>2</th>\n",
       "      <td>11561</td>\n",
       "      <td>city_21</td>\n",
       "      <td>0.624</td>\n",
       "      <td>NaN</td>\n",
       "      <td>No relevent experience</td>\n",
       "      <td>Full time course</td>\n",
       "      <td>Graduate</td>\n",
       "      <td>STEM</td>\n",
       "      <td>5</td>\n",
       "      <td>NaN</td>\n",
       "      <td>NaN</td>\n",
       "      <td>never</td>\n",
       "      <td>83</td>\n",
       "      <td>0</td>\n",
       "    </tr>\n",
       "    <tr>\n",
       "      <th>3</th>\n",
       "      <td>33241</td>\n",
       "      <td>city_115</td>\n",
       "      <td>0.789</td>\n",
       "      <td>NaN</td>\n",
       "      <td>No relevent experience</td>\n",
       "      <td>NaN</td>\n",
       "      <td>Graduate</td>\n",
       "      <td>Business Degree</td>\n",
       "      <td>&lt;1</td>\n",
       "      <td>NaN</td>\n",
       "      <td>Pvt Ltd</td>\n",
       "      <td>never</td>\n",
       "      <td>52</td>\n",
       "      <td>1</td>\n",
       "    </tr>\n",
       "    <tr>\n",
       "      <th>4</th>\n",
       "      <td>666</td>\n",
       "      <td>city_162</td>\n",
       "      <td>0.767</td>\n",
       "      <td>Male</td>\n",
       "      <td>Has relevent experience</td>\n",
       "      <td>no_enrollment</td>\n",
       "      <td>Masters</td>\n",
       "      <td>STEM</td>\n",
       "      <td>&gt;20</td>\n",
       "      <td>50-99</td>\n",
       "      <td>Funded Startup</td>\n",
       "      <td>4</td>\n",
       "      <td>8</td>\n",
       "      <td>0</td>\n",
       "    </tr>\n",
       "    <tr>\n",
       "      <th>5</th>\n",
       "      <td>21651</td>\n",
       "      <td>city_176</td>\n",
       "      <td>0.764</td>\n",
       "      <td>NaN</td>\n",
       "      <td>Has relevent experience</td>\n",
       "      <td>Part time course</td>\n",
       "      <td>Graduate</td>\n",
       "      <td>STEM</td>\n",
       "      <td>11</td>\n",
       "      <td>NaN</td>\n",
       "      <td>NaN</td>\n",
       "      <td>1</td>\n",
       "      <td>24</td>\n",
       "      <td>1</td>\n",
       "    </tr>\n",
       "    <tr>\n",
       "      <th>6</th>\n",
       "      <td>28806</td>\n",
       "      <td>city_160</td>\n",
       "      <td>0.920</td>\n",
       "      <td>Male</td>\n",
       "      <td>Has relevent experience</td>\n",
       "      <td>no_enrollment</td>\n",
       "      <td>High School</td>\n",
       "      <td>NaN</td>\n",
       "      <td>5</td>\n",
       "      <td>50-99</td>\n",
       "      <td>Funded Startup</td>\n",
       "      <td>1</td>\n",
       "      <td>24</td>\n",
       "      <td>0</td>\n",
       "    </tr>\n",
       "    <tr>\n",
       "      <th>7</th>\n",
       "      <td>402</td>\n",
       "      <td>city_46</td>\n",
       "      <td>0.762</td>\n",
       "      <td>Male</td>\n",
       "      <td>Has relevent experience</td>\n",
       "      <td>no_enrollment</td>\n",
       "      <td>Graduate</td>\n",
       "      <td>STEM</td>\n",
       "      <td>13</td>\n",
       "      <td>&lt;10</td>\n",
       "      <td>Pvt Ltd</td>\n",
       "      <td>&gt;4</td>\n",
       "      <td>18</td>\n",
       "      <td>1</td>\n",
       "    </tr>\n",
       "    <tr>\n",
       "      <th>8</th>\n",
       "      <td>27107</td>\n",
       "      <td>city_103</td>\n",
       "      <td>0.920</td>\n",
       "      <td>Male</td>\n",
       "      <td>Has relevent experience</td>\n",
       "      <td>no_enrollment</td>\n",
       "      <td>Graduate</td>\n",
       "      <td>STEM</td>\n",
       "      <td>7</td>\n",
       "      <td>50-99</td>\n",
       "      <td>Pvt Ltd</td>\n",
       "      <td>1</td>\n",
       "      <td>46</td>\n",
       "      <td>1</td>\n",
       "    </tr>\n",
       "    <tr>\n",
       "      <th>9</th>\n",
       "      <td>699</td>\n",
       "      <td>city_103</td>\n",
       "      <td>0.920</td>\n",
       "      <td>NaN</td>\n",
       "      <td>Has relevent experience</td>\n",
       "      <td>no_enrollment</td>\n",
       "      <td>Graduate</td>\n",
       "      <td>STEM</td>\n",
       "      <td>17</td>\n",
       "      <td>10000+</td>\n",
       "      <td>Pvt Ltd</td>\n",
       "      <td>&gt;4</td>\n",
       "      <td>123</td>\n",
       "      <td>0</td>\n",
       "    </tr>\n",
       "  </tbody>\n",
       "</table>\n",
       "</div>"
      ],
      "text/plain": [
       "   enrollee_id      city  city_development_index gender  \\\n",
       "0         8949  city_103                   0.920   Male   \n",
       "1        29725   city_40                   0.776   Male   \n",
       "2        11561   city_21                   0.624    NaN   \n",
       "3        33241  city_115                   0.789    NaN   \n",
       "4          666  city_162                   0.767   Male   \n",
       "5        21651  city_176                   0.764    NaN   \n",
       "6        28806  city_160                   0.920   Male   \n",
       "7          402   city_46                   0.762   Male   \n",
       "8        27107  city_103                   0.920   Male   \n",
       "9          699  city_103                   0.920    NaN   \n",
       "\n",
       "       relevent_experience enrolled_university education_level  \\\n",
       "0  Has relevent experience       no_enrollment        Graduate   \n",
       "1   No relevent experience       no_enrollment        Graduate   \n",
       "2   No relevent experience    Full time course        Graduate   \n",
       "3   No relevent experience                 NaN        Graduate   \n",
       "4  Has relevent experience       no_enrollment         Masters   \n",
       "5  Has relevent experience    Part time course        Graduate   \n",
       "6  Has relevent experience       no_enrollment     High School   \n",
       "7  Has relevent experience       no_enrollment        Graduate   \n",
       "8  Has relevent experience       no_enrollment        Graduate   \n",
       "9  Has relevent experience       no_enrollment        Graduate   \n",
       "\n",
       "  major_discipline experience company_size    company_type last_new_job  \\\n",
       "0             STEM        >20          NaN             NaN            1   \n",
       "1             STEM         15        50-99         Pvt Ltd           >4   \n",
       "2             STEM          5          NaN             NaN        never   \n",
       "3  Business Degree         <1          NaN         Pvt Ltd        never   \n",
       "4             STEM        >20        50-99  Funded Startup            4   \n",
       "5             STEM         11          NaN             NaN            1   \n",
       "6              NaN          5        50-99  Funded Startup            1   \n",
       "7             STEM         13          <10         Pvt Ltd           >4   \n",
       "8             STEM          7        50-99         Pvt Ltd            1   \n",
       "9             STEM         17       10000+         Pvt Ltd           >4   \n",
       "\n",
       "   training_hours  target  \n",
       "0              36       1  \n",
       "1              47       0  \n",
       "2              83       0  \n",
       "3              52       1  \n",
       "4               8       0  \n",
       "5              24       1  \n",
       "6              24       0  \n",
       "7              18       1  \n",
       "8              46       1  \n",
       "9             123       0  "
      ]
     },
     "execution_count": 82,
     "metadata": {},
     "output_type": "execute_result"
    }
   ],
   "source": [
    "hiredata.head(10) #stratify by experience "
   ]
  },
  {
   "cell_type": "code",
   "execution_count": 83,
   "metadata": {},
   "outputs": [
    {
     "name": "stdout",
     "output_type": "stream",
     "text": [
      "<class 'pandas.core.frame.DataFrame'>\n",
      "RangeIndex: 19158 entries, 0 to 19157\n",
      "Data columns (total 14 columns):\n",
      " #   Column                  Non-Null Count  Dtype  \n",
      "---  ------                  --------------  -----  \n",
      " 0   enrollee_id             19158 non-null  int64  \n",
      " 1   city                    19158 non-null  object \n",
      " 2   city_development_index  19158 non-null  float64\n",
      " 3   gender                  14650 non-null  object \n",
      " 4   relevent_experience     19158 non-null  object \n",
      " 5   enrolled_university     18772 non-null  object \n",
      " 6   education_level         18698 non-null  object \n",
      " 7   major_discipline        16345 non-null  object \n",
      " 8   experience              19093 non-null  object \n",
      " 9   company_size            13220 non-null  object \n",
      " 10  company_type            13018 non-null  object \n",
      " 11  last_new_job            18735 non-null  object \n",
      " 12  training_hours          19158 non-null  int64  \n",
      " 13  target                  19158 non-null  int64  \n",
      "dtypes: float64(1), int64(3), object(10)\n",
      "memory usage: 2.0+ MB\n"
     ]
    }
   ],
   "source": [
    "hiredata.info() #missing values: enrolled, education, major, experience, company size, company type; all categories,gender"
   ]
  },
  {
   "cell_type": "markdown",
   "metadata": {},
   "source": [
    "# Redefine and Fill missing values"
   ]
  },
  {
   "cell_type": "code",
   "execution_count": 84,
   "metadata": {},
   "outputs": [],
   "source": [
    "#dropping columns that had extreme # of missing values; more than every other column; do not want to insert bias\n",
    "hiredata.drop(['gender', 'company_size','company_type'], axis=1, inplace=True)\n",
    "predictions.drop(['gender', 'company_size','company_type'], axis=1, inplace=True)"
   ]
  },
  {
   "cell_type": "code",
   "execution_count": 85,
   "metadata": {},
   "outputs": [],
   "source": [
    "hiredata['major_discipline'].fillna('Other',inplace=True)\n",
    "predictions['major_discipline'].fillna('Other',inplace=True)"
   ]
  },
  {
   "cell_type": "code",
   "execution_count": 86,
   "metadata": {},
   "outputs": [],
   "source": [
    "hiredata.experience.replace(['>20','<1'], [25,0], inplace=True)\n",
    "X = np.array(hiredata[\"experience\"]).reshape(-1, 1) \n",
    "imputer = SimpleImputer(strategy=\"median\")\n",
    "imputer.fit(X)\n",
    "experience_imputed=imputer.transform(X)\n",
    "hiredata['experience_imputed']=experience_imputed\n",
    "\n",
    "predictions.experience.replace(['>20','<1'], [25,0], inplace=True)\n",
    "X = np.array(predictions[\"experience\"]).reshape(-1, 1) \n",
    "imputer = SimpleImputer(strategy=\"median\")\n",
    "imputer.fit(X)\n",
    "experience_imputed=imputer.transform(X)\n",
    "predictions['experience_imputed']=experience_imputed"
   ]
  },
  {
   "cell_type": "code",
   "execution_count": 87,
   "metadata": {},
   "outputs": [
    {
     "data": {
      "text/plain": [
       "1        8040\n",
       ">4       3290\n",
       "2        2900\n",
       "never    2452\n",
       "4        1029\n",
       "3        1024\n",
       "Name: last_new_job, dtype: int64"
      ]
     },
     "execution_count": 87,
     "metadata": {},
     "output_type": "execute_result"
    }
   ],
   "source": [
    "hiredata['last_new_job'].value_counts()"
   ]
  },
  {
   "cell_type": "code",
   "execution_count": 88,
   "metadata": {},
   "outputs": [],
   "source": [
    "hiredata.last_new_job.replace(['>4','never'], [5,0], inplace=True)\n",
    "X = np.array(hiredata[\"last_new_job\"]).reshape(-1, 1) \n",
    "imputer = SimpleImputer(strategy=\"median\")\n",
    "imputer.fit(X)\n",
    "last_job_imputed=imputer.transform(X)\n",
    "hiredata['lastjob_imputed']=last_job_imputed\n",
    "\n",
    "predictions.last_new_job.replace(['>4','never'], [5,0], inplace=True)\n",
    "X = np.array(predictions[\"last_new_job\"]).reshape(-1, 1) \n",
    "imputer = SimpleImputer(strategy=\"median\")\n",
    "imputer.fit(X)\n",
    "last_job_imputed=imputer.transform(X)\n",
    "predictions['lastjob_imputed']=last_job_imputed"
   ]
  },
  {
   "cell_type": "code",
   "execution_count": 89,
   "metadata": {},
   "outputs": [
    {
     "data": {
      "text/plain": [
       "Graduate          11598\n",
       "Masters            4361\n",
       "High School        2017\n",
       "Phd                 414\n",
       "Primary School      308\n",
       "Name: education_level, dtype: int64"
      ]
     },
     "execution_count": 89,
     "metadata": {},
     "output_type": "execute_result"
    }
   ],
   "source": [
    "hiredata.education_level.value_counts()"
   ]
  },
  {
   "cell_type": "code",
   "execution_count": 90,
   "metadata": {},
   "outputs": [],
   "source": [
    "hiredata.education_level.replace(['Phd','Graduate','Masters','High School','Primary School'], [5,4,3,2,1], inplace=True)\n",
    "X = np.array(hiredata[\"education_level\"]).reshape(-1, 1) \n",
    "imputer = SimpleImputer(strategy=\"median\")\n",
    "imputer.fit(X)\n",
    "educationlevel_imputed=imputer.transform(X)\n",
    "hiredata['educationlevel_imputed']=educationlevel_imputed\n",
    "\n",
    "predictions.education_level.replace(['Phd','Graduate','Masters','High School','Primary School'], [5,4,3,2,1], inplace=True)\n",
    "X = np.array(predictions[\"education_level\"]).reshape(-1, 1) \n",
    "imputer = SimpleImputer(strategy=\"median\")\n",
    "imputer.fit(X)\n",
    "educationlevel_imputed=imputer.transform(X)\n",
    "predictions['educationlevel_imputed']=educationlevel_imputed"
   ]
  },
  {
   "cell_type": "code",
   "execution_count": 91,
   "metadata": {},
   "outputs": [
    {
     "data": {
      "text/plain": [
       "no_enrollment       13817\n",
       "Full time course     3757\n",
       "Part time course     1198\n",
       "Name: enrolled_university, dtype: int64"
      ]
     },
     "execution_count": 91,
     "metadata": {},
     "output_type": "execute_result"
    }
   ],
   "source": [
    "hiredata['enrolled_university'].value_counts()"
   ]
  },
  {
   "cell_type": "code",
   "execution_count": 92,
   "metadata": {},
   "outputs": [],
   "source": [
    "hiredata.enrolled_university.replace(['Full time course','Part time course','no_enrollment'], [2,1,0], inplace=True)\n",
    "X = np.array(hiredata[\"enrolled_university\"]).reshape(-1, 1) \n",
    "imputer = SimpleImputer(strategy=\"median\")\n",
    "imputer.fit(X)\n",
    "enrolled_imputed=imputer.transform(X)\n",
    "hiredata['enrolleduniversity_imputed']=enrolled_imputed\n",
    "\n",
    "predictions.enrolled_university.replace(['Full time course','Part time course','no_enrollment'], [2,1,0], inplace=True)\n",
    "X = np.array(predictions[\"enrolled_university\"]).reshape(-1, 1) \n",
    "imputer = SimpleImputer(strategy=\"median\")\n",
    "imputer.fit(X)\n",
    "enrolled_imputed=imputer.transform(X)\n",
    "predictions['enrolleduniversity_imputed']=enrolled_imputed"
   ]
  },
  {
   "cell_type": "code",
   "execution_count": 93,
   "metadata": {},
   "outputs": [],
   "source": [
    "hiredata.drop(['experience','last_new_job','education_level','enrolled_university','enrollee_id'],axis=1, inplace=True)\n",
    "predictions.drop(['experience','last_new_job','education_level','enrolled_university','enrollee_id'],axis=1, inplace=True)"
   ]
  },
  {
   "cell_type": "code",
   "execution_count": 94,
   "metadata": {},
   "outputs": [
    {
     "name": "stdout",
     "output_type": "stream",
     "text": [
      "<class 'pandas.core.frame.DataFrame'>\n",
      "RangeIndex: 19158 entries, 0 to 19157\n",
      "Data columns (total 10 columns):\n",
      " #   Column                      Non-Null Count  Dtype  \n",
      "---  ------                      --------------  -----  \n",
      " 0   city                        19158 non-null  object \n",
      " 1   city_development_index      19158 non-null  float64\n",
      " 2   relevent_experience         19158 non-null  object \n",
      " 3   major_discipline            19158 non-null  object \n",
      " 4   training_hours              19158 non-null  int64  \n",
      " 5   target                      19158 non-null  int64  \n",
      " 6   experience_imputed          19158 non-null  float64\n",
      " 7   lastjob_imputed             19158 non-null  float64\n",
      " 8   educationlevel_imputed      19158 non-null  float64\n",
      " 9   enrolleduniversity_imputed  19158 non-null  float64\n",
      "dtypes: float64(5), int64(2), object(3)\n",
      "memory usage: 1.5+ MB\n"
     ]
    }
   ],
   "source": [
    "hiredata.info()"
   ]
  },
  {
   "cell_type": "code",
   "execution_count": 95,
   "metadata": {},
   "outputs": [
    {
     "data": {
      "text/plain": [
       "target                        1.000000\n",
       "enrolleduniversity_imputed    0.149539\n",
       "educationlevel_imputed        0.067412\n",
       "training_hours               -0.021577\n",
       "lastjob_imputed              -0.084607\n",
       "experience_imputed           -0.169640\n",
       "city_development_index       -0.341602\n",
       "Name: target, dtype: float64"
      ]
     },
     "execution_count": 95,
     "metadata": {},
     "output_type": "execute_result"
    }
   ],
   "source": [
    "corr_matrix = hiredata.corr()\n",
    "corr_matrix[\"target\"].sort_values(ascending=False)"
   ]
  },
  {
   "cell_type": "markdown",
   "metadata": {},
   "source": [
    "# Further Cleansing"
   ]
  },
  {
   "cell_type": "code",
   "execution_count": 96,
   "metadata": {},
   "outputs": [
    {
     "data": {
      "image/png": "[encoded data removed]",
      "text/plain": [
       "<Figure size 1440x1080 with 9 Axes>"
      ]
     },
     "metadata": {
      "needs_background": "light"
     },
     "output_type": "display_data"
    }
   ],
   "source": [
    "hiredata.hist(bins=50, figsize=(20,15)) #right skewed data for training hours\n",
    "plt.show()"
   ]
  },
  {
   "cell_type": "code",
   "execution_count": 97,
   "metadata": {},
   "outputs": [],
   "source": [
    "hiredata[\"relativeTraining\"]= pd.cut(hiredata[\"training_hours\"],\n",
    "                               bins=[0., 20, 40, 60,80, np.inf],\n",
    "                               labels=['Minimal', 'Some', 'Average','Above Average','Extremely'])"
   ]
  },
  {
   "cell_type": "code",
   "execution_count": 98,
   "metadata": {},
   "outputs": [
    {
     "data": {
      "image/png": "[encoded data removed]",
      "text/plain": [
       "<Figure size 432x288 with 1 Axes>"
      ]
     },
     "metadata": {
      "needs_background": "light"
     },
     "output_type": "display_data"
    }
   ],
   "source": [
    "hiredata[\"relativeTraining\"].hist() #force normal distribution \n",
    "plt.show()"
   ]
  },
  {
   "cell_type": "code",
   "execution_count": 99,
   "metadata": {},
   "outputs": [
    {
     "data": {
      "text/plain": [
       "Extremely        5440\n",
       "Some             4156\n",
       "Minimal          4127\n",
       "Average          3439\n",
       "Above Average    1996\n",
       "Name: relativeTraining, dtype: int64"
      ]
     },
     "execution_count": 99,
     "metadata": {},
     "output_type": "execute_result"
    }
   ],
   "source": [
    "hiredata['relativeTraining'].value_counts()"
   ]
  },
  {
   "cell_type": "code",
   "execution_count": 100,
   "metadata": {},
   "outputs": [
    {
     "data": {
      "text/plain": [
       "target                        1.000000\n",
       "enrolleduniversity_imputed    0.149539\n",
       "educationlevel_imputed        0.067412\n",
       "training_hours               -0.021577\n",
       "lastjob_imputed              -0.084607\n",
       "experience_imputed           -0.169640\n",
       "city_development_index       -0.341602\n",
       "Name: target, dtype: float64"
      ]
     },
     "execution_count": 100,
     "metadata": {},
     "output_type": "execute_result"
    }
   ],
   "source": [
    "corr_matrix = hiredata.corr()\n",
    "corr_matrix[\"target\"].sort_values(ascending=False)"
   ]
  },
  {
   "cell_type": "code",
   "execution_count": 101,
   "metadata": {},
   "outputs": [
    {
     "data": {
      "text/html": [
       "<div>\n",
       "<style scoped>\n",
       "    .dataframe tbody tr th:only-of-type {\n",
       "        vertical-align: middle;\n",
       "    }\n",
       "\n",
       "    .dataframe tbody tr th {\n",
       "        vertical-align: top;\n",
       "    }\n",
       "\n",
       "    .dataframe thead th {\n",
       "        text-align: right;\n",
       "    }\n",
       "</style>\n",
       "<table border=\"1\" class=\"dataframe\">\n",
       "  <thead>\n",
       "    <tr style=\"text-align: right;\">\n",
       "      <th></th>\n",
       "      <th>city</th>\n",
       "      <th>city_development_index</th>\n",
       "      <th>relevent_experience</th>\n",
       "      <th>major_discipline</th>\n",
       "      <th>training_hours</th>\n",
       "      <th>target</th>\n",
       "      <th>experience_imputed</th>\n",
       "      <th>lastjob_imputed</th>\n",
       "      <th>educationlevel_imputed</th>\n",
       "      <th>enrolleduniversity_imputed</th>\n",
       "      <th>relativeTraining</th>\n",
       "    </tr>\n",
       "  </thead>\n",
       "  <tbody>\n",
       "    <tr>\n",
       "      <th>0</th>\n",
       "      <td>city_103</td>\n",
       "      <td>0.920</td>\n",
       "      <td>Has relevent experience</td>\n",
       "      <td>STEM</td>\n",
       "      <td>36</td>\n",
       "      <td>1</td>\n",
       "      <td>25.0</td>\n",
       "      <td>1.0</td>\n",
       "      <td>4.0</td>\n",
       "      <td>0.0</td>\n",
       "      <td>Some</td>\n",
       "    </tr>\n",
       "    <tr>\n",
       "      <th>1</th>\n",
       "      <td>city_40</td>\n",
       "      <td>0.776</td>\n",
       "      <td>No relevent experience</td>\n",
       "      <td>STEM</td>\n",
       "      <td>47</td>\n",
       "      <td>0</td>\n",
       "      <td>15.0</td>\n",
       "      <td>5.0</td>\n",
       "      <td>4.0</td>\n",
       "      <td>0.0</td>\n",
       "      <td>Average</td>\n",
       "    </tr>\n",
       "    <tr>\n",
       "      <th>2</th>\n",
       "      <td>city_21</td>\n",
       "      <td>0.624</td>\n",
       "      <td>No relevent experience</td>\n",
       "      <td>STEM</td>\n",
       "      <td>83</td>\n",
       "      <td>0</td>\n",
       "      <td>5.0</td>\n",
       "      <td>0.0</td>\n",
       "      <td>4.0</td>\n",
       "      <td>2.0</td>\n",
       "      <td>Extremely</td>\n",
       "    </tr>\n",
       "    <tr>\n",
       "      <th>3</th>\n",
       "      <td>city_115</td>\n",
       "      <td>0.789</td>\n",
       "      <td>No relevent experience</td>\n",
       "      <td>Business Degree</td>\n",
       "      <td>52</td>\n",
       "      <td>1</td>\n",
       "      <td>0.0</td>\n",
       "      <td>0.0</td>\n",
       "      <td>4.0</td>\n",
       "      <td>0.0</td>\n",
       "      <td>Average</td>\n",
       "    </tr>\n",
       "    <tr>\n",
       "      <th>4</th>\n",
       "      <td>city_162</td>\n",
       "      <td>0.767</td>\n",
       "      <td>Has relevent experience</td>\n",
       "      <td>STEM</td>\n",
       "      <td>8</td>\n",
       "      <td>0</td>\n",
       "      <td>25.0</td>\n",
       "      <td>4.0</td>\n",
       "      <td>3.0</td>\n",
       "      <td>0.0</td>\n",
       "      <td>Minimal</td>\n",
       "    </tr>\n",
       "  </tbody>\n",
       "</table>\n",
       "</div>"
      ],
      "text/plain": [
       "       city  city_development_index      relevent_experience major_discipline  \\\n",
       "0  city_103                   0.920  Has relevent experience             STEM   \n",
       "1   city_40                   0.776   No relevent experience             STEM   \n",
       "2   city_21                   0.624   No relevent experience             STEM   \n",
       "3  city_115                   0.789   No relevent experience  Business Degree   \n",
       "4  city_162                   0.767  Has relevent experience             STEM   \n",
       "\n",
       "   training_hours  target  experience_imputed  lastjob_imputed  \\\n",
       "0              36       1                25.0              1.0   \n",
       "1              47       0                15.0              5.0   \n",
       "2              83       0                 5.0              0.0   \n",
       "3              52       1                 0.0              0.0   \n",
       "4               8       0                25.0              4.0   \n",
       "\n",
       "   educationlevel_imputed  enrolleduniversity_imputed relativeTraining  \n",
       "0                     4.0                         0.0             Some  \n",
       "1                     4.0                         0.0          Average  \n",
       "2                     4.0                         2.0        Extremely  \n",
       "3                     4.0                         0.0          Average  \n",
       "4                     3.0                         0.0          Minimal  "
      ]
     },
     "execution_count": 101,
     "metadata": {},
     "output_type": "execute_result"
    }
   ],
   "source": [
    "hiredata.head()"
   ]
  },
  {
   "cell_type": "code",
   "execution_count": 102,
   "metadata": {},
   "outputs": [
    {
     "data": {
      "text/html": [
       "<div>\n",
       "<style scoped>\n",
       "    .dataframe tbody tr th:only-of-type {\n",
       "        vertical-align: middle;\n",
       "    }\n",
       "\n",
       "    .dataframe tbody tr th {\n",
       "        vertical-align: top;\n",
       "    }\n",
       "\n",
       "    .dataframe thead th {\n",
       "        text-align: right;\n",
       "    }\n",
       "</style>\n",
       "<table border=\"1\" class=\"dataframe\">\n",
       "  <thead>\n",
       "    <tr style=\"text-align: right;\">\n",
       "      <th></th>\n",
       "      <th>city</th>\n",
       "      <th>city_development_index</th>\n",
       "      <th>relevent_experience</th>\n",
       "      <th>major_discipline</th>\n",
       "      <th>training_hours</th>\n",
       "      <th>experience_imputed</th>\n",
       "      <th>lastjob_imputed</th>\n",
       "      <th>educationlevel_imputed</th>\n",
       "      <th>enrolleduniversity_imputed</th>\n",
       "    </tr>\n",
       "  </thead>\n",
       "  <tbody>\n",
       "    <tr>\n",
       "      <th>0</th>\n",
       "      <td>city_21</td>\n",
       "      <td>0.624</td>\n",
       "      <td>No relevent experience</td>\n",
       "      <td>STEM</td>\n",
       "      <td>18</td>\n",
       "      <td>0.0</td>\n",
       "      <td>0.0</td>\n",
       "      <td>4.0</td>\n",
       "      <td>2.0</td>\n",
       "    </tr>\n",
       "    <tr>\n",
       "      <th>1</th>\n",
       "      <td>city_64</td>\n",
       "      <td>0.666</td>\n",
       "      <td>No relevent experience</td>\n",
       "      <td>Humanities</td>\n",
       "      <td>23</td>\n",
       "      <td>25.0</td>\n",
       "      <td>5.0</td>\n",
       "      <td>4.0</td>\n",
       "      <td>1.0</td>\n",
       "    </tr>\n",
       "    <tr>\n",
       "      <th>2</th>\n",
       "      <td>city_159</td>\n",
       "      <td>0.843</td>\n",
       "      <td>Has relevent experience</td>\n",
       "      <td>STEM</td>\n",
       "      <td>68</td>\n",
       "      <td>11.0</td>\n",
       "      <td>1.0</td>\n",
       "      <td>3.0</td>\n",
       "      <td>0.0</td>\n",
       "    </tr>\n",
       "  </tbody>\n",
       "</table>\n",
       "</div>"
      ],
      "text/plain": [
       "       city  city_development_index      relevent_experience major_discipline  \\\n",
       "0   city_21                   0.624   No relevent experience             STEM   \n",
       "1   city_64                   0.666   No relevent experience       Humanities   \n",
       "2  city_159                   0.843  Has relevent experience             STEM   \n",
       "\n",
       "   training_hours  experience_imputed  lastjob_imputed  \\\n",
       "0              18                 0.0              0.0   \n",
       "1              23                25.0              5.0   \n",
       "2              68                11.0              1.0   \n",
       "\n",
       "   educationlevel_imputed  enrolleduniversity_imputed  \n",
       "0                     4.0                         2.0  \n",
       "1                     4.0                         1.0  \n",
       "2                     3.0                         0.0  "
      ]
     },
     "execution_count": 102,
     "metadata": {},
     "output_type": "execute_result"
    }
   ],
   "source": [
    "predictions.head()"
   ]
  },
  {
   "cell_type": "markdown",
   "metadata": {},
   "source": [
    "# Create Test and Training Sets"
   ]
  },
  {
   "cell_type": "code",
   "execution_count": 103,
   "metadata": {},
   "outputs": [],
   "source": [
    "splitobj = StratifiedShuffleSplit(n_splits=1, test_size=.2, random_state=42)\n",
    "for train_index, test_index in splitobj.split(hiredata, hiredata['relativeTraining']):\n",
    "    train_set = hiredata.iloc[train_index]\n",
    "    test_set = hiredata.iloc[test_index]\n",
    "\n",
    "    \n",
    "#do i have to stratify the predictions data?"
   ]
  },
  {
   "cell_type": "code",
   "execution_count": 104,
   "metadata": {},
   "outputs": [
    {
     "name": "stdout",
     "output_type": "stream",
     "text": [
      "Data set size: 19,158\n",
      "Training set size: 15,326 \n",
      "Test set size (20%): 3,832\n"
     ]
    }
   ],
   "source": [
    "print(\"Data set size: {:,}\\nTraining set size: {:,} \\nTest set size (20%): {:,}\".format(\n",
    "    len(hiredata),len(train_set),len(test_set)))"
   ]
  },
  {
   "cell_type": "code",
   "execution_count": 105,
   "metadata": {},
   "outputs": [
    {
     "data": {
      "text/html": [
       "<div>\n",
       "<style scoped>\n",
       "    .dataframe tbody tr th:only-of-type {\n",
       "        vertical-align: middle;\n",
       "    }\n",
       "\n",
       "    .dataframe tbody tr th {\n",
       "        vertical-align: top;\n",
       "    }\n",
       "\n",
       "    .dataframe thead th {\n",
       "        text-align: right;\n",
       "    }\n",
       "</style>\n",
       "<table border=\"1\" class=\"dataframe\">\n",
       "  <thead>\n",
       "    <tr style=\"text-align: right;\">\n",
       "      <th></th>\n",
       "      <th>Overall</th>\n",
       "      <th>Stratified</th>\n",
       "    </tr>\n",
       "  </thead>\n",
       "  <tbody>\n",
       "    <tr>\n",
       "      <th>Extremely</th>\n",
       "      <td>0.283954</td>\n",
       "      <td>0.283925</td>\n",
       "    </tr>\n",
       "    <tr>\n",
       "      <th>Some</th>\n",
       "      <td>0.216933</td>\n",
       "      <td>0.216858</td>\n",
       "    </tr>\n",
       "    <tr>\n",
       "      <th>Minimal</th>\n",
       "      <td>0.215419</td>\n",
       "      <td>0.215553</td>\n",
       "    </tr>\n",
       "    <tr>\n",
       "      <th>Average</th>\n",
       "      <td>0.179507</td>\n",
       "      <td>0.179541</td>\n",
       "    </tr>\n",
       "    <tr>\n",
       "      <th>Above Average</th>\n",
       "      <td>0.104186</td>\n",
       "      <td>0.104123</td>\n",
       "    </tr>\n",
       "  </tbody>\n",
       "</table>\n",
       "</div>"
      ],
      "text/plain": [
       "                Overall  Stratified\n",
       "Extremely      0.283954    0.283925\n",
       "Some           0.216933    0.216858\n",
       "Minimal        0.215419    0.215553\n",
       "Average        0.179507    0.179541\n",
       "Above Average  0.104186    0.104123"
      ]
     },
     "execution_count": 105,
     "metadata": {},
     "output_type": "execute_result"
    }
   ],
   "source": [
    "pd.DataFrame( { \"Overall\": hiredata[\"relativeTraining\"].value_counts() / len(hiredata), \n",
    "               \"Stratified\": test_set[\"relativeTraining\"].value_counts() / len(test_set) })"
   ]
  },
  {
   "cell_type": "code",
   "execution_count": 106,
   "metadata": {},
   "outputs": [
    {
     "name": "stderr",
     "output_type": "stream",
     "text": [
      "C:\\Users\\ocmkd\\anaconda3\\lib\\site-packages\\pandas\\core\\frame.py:3990: SettingWithCopyWarning: \n",
      "A value is trying to be set on a copy of a slice from a DataFrame\n",
      "\n",
      "See the caveats in the documentation: https://pandas.pydata.org/pandas-docs/stable/user_guide/indexing.html#returning-a-view-versus-a-copy\n",
      "  return super().drop(\n"
     ]
    }
   ],
   "source": [
    "train_set.drop(\"relativeTraining\", axis=1, inplace=True)\n",
    "test_set.drop(\"relativeTraining\", axis=1, inplace=True)"
   ]
  },
  {
   "cell_type": "code",
   "execution_count": 107,
   "metadata": {},
   "outputs": [],
   "source": [
    "#create a copy of the startified training data set to explore\n",
    "train_copy= train_set.copy()"
   ]
  },
  {
   "cell_type": "code",
   "execution_count": 108,
   "metadata": {},
   "outputs": [
    {
     "data": {
      "text/html": [
       "<div>\n",
       "<style scoped>\n",
       "    .dataframe tbody tr th:only-of-type {\n",
       "        vertical-align: middle;\n",
       "    }\n",
       "\n",
       "    .dataframe tbody tr th {\n",
       "        vertical-align: top;\n",
       "    }\n",
       "\n",
       "    .dataframe thead th {\n",
       "        text-align: right;\n",
       "    }\n",
       "</style>\n",
       "<table border=\"1\" class=\"dataframe\">\n",
       "  <thead>\n",
       "    <tr style=\"text-align: right;\">\n",
       "      <th></th>\n",
       "      <th>city</th>\n",
       "      <th>city_development_index</th>\n",
       "      <th>relevent_experience</th>\n",
       "      <th>major_discipline</th>\n",
       "      <th>training_hours</th>\n",
       "      <th>target</th>\n",
       "      <th>experience_imputed</th>\n",
       "      <th>lastjob_imputed</th>\n",
       "      <th>educationlevel_imputed</th>\n",
       "      <th>enrolleduniversity_imputed</th>\n",
       "    </tr>\n",
       "  </thead>\n",
       "  <tbody>\n",
       "    <tr>\n",
       "      <th>17715</th>\n",
       "      <td>city_21</td>\n",
       "      <td>0.624</td>\n",
       "      <td>Has relevent experience</td>\n",
       "      <td>STEM</td>\n",
       "      <td>74</td>\n",
       "      <td>1</td>\n",
       "      <td>4.0</td>\n",
       "      <td>1.0</td>\n",
       "      <td>4.0</td>\n",
       "      <td>0.0</td>\n",
       "    </tr>\n",
       "    <tr>\n",
       "      <th>10608</th>\n",
       "      <td>city_50</td>\n",
       "      <td>0.896</td>\n",
       "      <td>Has relevent experience</td>\n",
       "      <td>STEM</td>\n",
       "      <td>67</td>\n",
       "      <td>0</td>\n",
       "      <td>25.0</td>\n",
       "      <td>4.0</td>\n",
       "      <td>4.0</td>\n",
       "      <td>0.0</td>\n",
       "    </tr>\n",
       "    <tr>\n",
       "      <th>13639</th>\n",
       "      <td>city_103</td>\n",
       "      <td>0.920</td>\n",
       "      <td>Has relevent experience</td>\n",
       "      <td>STEM</td>\n",
       "      <td>6</td>\n",
       "      <td>1</td>\n",
       "      <td>14.0</td>\n",
       "      <td>3.0</td>\n",
       "      <td>4.0</td>\n",
       "      <td>0.0</td>\n",
       "    </tr>\n",
       "    <tr>\n",
       "      <th>18863</th>\n",
       "      <td>city_103</td>\n",
       "      <td>0.920</td>\n",
       "      <td>Has relevent experience</td>\n",
       "      <td>Humanities</td>\n",
       "      <td>13</td>\n",
       "      <td>1</td>\n",
       "      <td>19.0</td>\n",
       "      <td>1.0</td>\n",
       "      <td>4.0</td>\n",
       "      <td>0.0</td>\n",
       "    </tr>\n",
       "    <tr>\n",
       "      <th>11510</th>\n",
       "      <td>city_21</td>\n",
       "      <td>0.624</td>\n",
       "      <td>Has relevent experience</td>\n",
       "      <td>STEM</td>\n",
       "      <td>77</td>\n",
       "      <td>1</td>\n",
       "      <td>12.0</td>\n",
       "      <td>5.0</td>\n",
       "      <td>4.0</td>\n",
       "      <td>2.0</td>\n",
       "    </tr>\n",
       "  </tbody>\n",
       "</table>\n",
       "</div>"
      ],
      "text/plain": [
       "           city  city_development_index      relevent_experience  \\\n",
       "17715   city_21                   0.624  Has relevent experience   \n",
       "10608   city_50                   0.896  Has relevent experience   \n",
       "13639  city_103                   0.920  Has relevent experience   \n",
       "18863  city_103                   0.920  Has relevent experience   \n",
       "11510   city_21                   0.624  Has relevent experience   \n",
       "\n",
       "      major_discipline  training_hours  target  experience_imputed  \\\n",
       "17715             STEM              74       1                 4.0   \n",
       "10608             STEM              67       0                25.0   \n",
       "13639             STEM               6       1                14.0   \n",
       "18863       Humanities              13       1                19.0   \n",
       "11510             STEM              77       1                12.0   \n",
       "\n",
       "       lastjob_imputed  educationlevel_imputed  enrolleduniversity_imputed  \n",
       "17715              1.0                     4.0                         0.0  \n",
       "10608              4.0                     4.0                         0.0  \n",
       "13639              3.0                     4.0                         0.0  \n",
       "18863              1.0                     4.0                         0.0  \n",
       "11510              5.0                     4.0                         2.0  "
      ]
     },
     "execution_count": 108,
     "metadata": {},
     "output_type": "execute_result"
    }
   ],
   "source": [
    "train_copy.head()"
   ]
  },
  {
   "cell_type": "code",
   "execution_count": 109,
   "metadata": {},
   "outputs": [
    {
     "data": {
      "text/plain": [
       "(15326, 10)"
      ]
     },
     "execution_count": 109,
     "metadata": {},
     "output_type": "execute_result"
    }
   ],
   "source": [
    "train_copy.shape"
   ]
  },
  {
   "cell_type": "markdown",
   "metadata": {},
   "source": [
    "# prepare the data"
   ]
  },
  {
   "cell_type": "code",
   "execution_count": 110,
   "metadata": {},
   "outputs": [
    {
     "data": {
      "text/plain": [
       "Index(['city', 'city_development_index', 'relevent_experience',\n",
       "       'major_discipline', 'training_hours', 'target', 'experience_imputed',\n",
       "       'lastjob_imputed', 'educationlevel_imputed',\n",
       "       'enrolleduniversity_imputed'],\n",
       "      dtype='object')"
      ]
     },
     "execution_count": 110,
     "metadata": {},
     "output_type": "execute_result"
    }
   ],
   "source": [
    "#list the keys of the dataset\n",
    "train_copy.keys()\n",
    "\n",
    "#DESCR will describe the data, 'data' is the data itself"
   ]
  },
  {
   "cell_type": "code",
   "execution_count": 111,
   "metadata": {},
   "outputs": [],
   "source": [
    "# assign x and y within the training set\n",
    "x_train_pre = train_copy.drop(\"target\",axis=1) #X value\n",
    "y_train = train_copy[\"target\"].copy() #Y value"
   ]
  },
  {
   "cell_type": "code",
   "execution_count": 112,
   "metadata": {},
   "outputs": [],
   "source": [
    "# assign x and y within the test set\n",
    "x_test_pre = test_set.drop(\"target\",axis=1) #X value\n",
    "y_test = test_set[\"target\"].copy() #Y value"
   ]
  },
  {
   "cell_type": "code",
   "execution_count": 113,
   "metadata": {},
   "outputs": [
    {
     "data": {
      "text/plain": [
       "((15326, 9), (15326,), (3832, 9), (3832,))"
      ]
     },
     "execution_count": 113,
     "metadata": {},
     "output_type": "execute_result"
    }
   ],
   "source": [
    "#shape of the training dataset; 14 features\n",
    "x_train_pre.shape, y_train.shape, x_test_pre.shape, y_test.shape"
   ]
  },
  {
   "cell_type": "markdown",
   "metadata": {},
   "source": [
    "# Encode and Scale"
   ]
  },
  {
   "cell_type": "code",
   "execution_count": 114,
   "metadata": {},
   "outputs": [
    {
     "data": {
      "text/plain": [
       "['city_development_index',\n",
       " 'training_hours',\n",
       " 'experience_imputed',\n",
       " 'lastjob_imputed',\n",
       " 'educationlevel_imputed',\n",
       " 'enrolleduniversity_imputed']"
      ]
     },
     "execution_count": 114,
     "metadata": {},
     "output_type": "execute_result"
    }
   ],
   "source": [
    "#define variables needed to seperate numeric attributes from categorical attributes; !fix education level manually\n",
    "ord_attribs = ['relevent_experience']\n",
    "hot_attribs=['city','major_discipline']\n",
    "num_attribs = list(x_train_pre.drop(ord_attribs+hot_attribs,axis=1) )\n",
    "\n",
    "#list the numeric attributes\n",
    "num_attribs"
   ]
  },
  {
   "cell_type": "code",
   "execution_count": 116,
   "metadata": {},
   "outputs": [],
   "source": [
    "#define pipeline for numeric attributes (this code is just a definition)\n",
    "#each numeric attribute will be imputated using the Median strategy\n",
    "#each numeric attribute will be scaled \n",
    "# each of numeric columns, run each through imputer and fill any empty values w median\n",
    "#standard scalar standardizes through each numeric column\n",
    "num_pipeline = Pipeline( [\n",
    " ('imputer', SimpleImputer(strategy=\"median\")),\n",
    " ('std_scaler', StandardScaler()),   \n",
    "])\n",
    "\n",
    "#define transformation pipeline for both numeric and category attributes in the dataframe\n",
    "#numeric attributed will be processed by the num_pipeline defined above\n",
    "#the category ocean proximity will be transformed using the One Hot Encoder method\n",
    "\n",
    "full_pipeline = ColumnTransformer( [\n",
    "    ('num', num_pipeline, num_attribs),\n",
    "    ('ord', OrdinalEncoder(), ord_attribs),\n",
    "    ('hot', OneHotEncoder(), hot_attribs)\n",
    "])"
   ]
  },
  {
   "cell_type": "code",
   "execution_count": 118,
   "metadata": {},
   "outputs": [
    {
     "data": {
      "text/plain": [
       "(15326, 133)"
      ]
     },
     "execution_count": 118,
     "metadata": {},
     "output_type": "execute_result"
    }
   ],
   "source": [
    "#take the training data set and create an array of prepared data\n",
    "#transform data into matrix, figuring out scalers and encoders should be\n",
    "x_train = full_pipeline.fit_transform(x_train_pre)\n",
    "x_train.shape"
   ]
  },
  {
   "cell_type": "code",
   "execution_count": 45,
   "metadata": {},
   "outputs": [
    {
     "data": {
      "text/plain": [
       "(3832, 133)"
      ]
     },
     "execution_count": 45,
     "metadata": {},
     "output_type": "execute_result"
    }
   ],
   "source": [
    "# only transform, do not fit test data\n",
    "x_test = full_pipeline.transform(x_test_pre)\n",
    "x_test.shape"
   ]
  },
  {
   "cell_type": "code",
   "execution_count": 46,
   "metadata": {},
   "outputs": [
    {
     "data": {
      "text/plain": [
       "(3, 133)"
      ]
     },
     "execution_count": 46,
     "metadata": {},
     "output_type": "execute_result"
    }
   ],
   "source": [
    "data_pred=full_pipeline.transform(predictions)\n",
    "data_pred.shape"
   ]
  },
  {
   "cell_type": "code",
   "execution_count": 47,
   "metadata": {},
   "outputs": [],
   "source": [
    "#create Y values for our binary classifier \n",
    "#since we are going to decide if target or not, set y_train to 1 if indeed it is a 1 and zero otherwise; \n",
    "# use boolean\n",
    "y_train_target = (y_train == 1)\n",
    "\n",
    "#do the same thing to our test data set\n",
    "y_test_target = (y_test == 1)"
   ]
  },
  {
   "cell_type": "code",
   "execution_count": 48,
   "metadata": {},
   "outputs": [
    {
     "data": {
      "text/plain": [
       "17715     True\n",
       "10608    False\n",
       "13639     True\n",
       "18863     True\n",
       "11510     True\n",
       "17912    False\n",
       "13681     True\n",
       "5780     False\n",
       "12337     True\n",
       "407      False\n",
       "11328    False\n",
       "3941     False\n",
       "7534      True\n",
       "14306    False\n",
       "8947     False\n",
       "Name: target, dtype: bool"
      ]
     },
     "execution_count": 48,
     "metadata": {},
     "output_type": "execute_result"
    }
   ],
   "source": [
    "y_train_target[:15]"
   ]
  },
  {
   "cell_type": "markdown",
   "metadata": {},
   "source": [
    "# SGD Classifier"
   ]
  },
  {
   "cell_type": "code",
   "execution_count": 49,
   "metadata": {},
   "outputs": [
    {
     "data": {
      "text/plain": [
       "SGDClassifier(random_state=42)"
      ]
     },
     "execution_count": 49,
     "metadata": {},
     "output_type": "execute_result"
    }
   ],
   "source": [
    "#create the classification model\n",
    "sgd_clf = SGDClassifier(random_state=42)\n",
    "\n",
    "#fit the model using the training data set\n",
    "sgd_clf.fit(x_train, y_train)"
   ]
  },
  {
   "cell_type": "code",
   "execution_count": 50,
   "metadata": {},
   "outputs": [
    {
     "data": {
      "text/plain": [
       "0.779720515169799"
      ]
     },
     "execution_count": 50,
     "metadata": {},
     "output_type": "execute_result"
    }
   ],
   "source": [
    "#see how well the model peforms across a variety of cross sections; may want to increase to 5 or ten cv\n",
    "score = cross_val_score(sgd_clf, x_train, y_train, cv=5, scoring=\"accuracy\")\n",
    "np.mean(score)"
   ]
  },
  {
   "cell_type": "code",
   "execution_count": 51,
   "metadata": {},
   "outputs": [],
   "source": [
    "#get predictions aross 3 different folds using the default method (prediction scores)\n",
    "y_train_pred = cross_val_predict(sgd_clf, x_train, y_train, cv=5)"
   ]
  },
  {
   "cell_type": "code",
   "execution_count": 52,
   "metadata": {},
   "outputs": [
    {
     "data": {
      "text/plain": [
       "array([[10375,  1129],\n",
       "       [ 2247,  1575]], dtype=int64)"
      ]
     },
     "execution_count": 52,
     "metadata": {},
     "output_type": "execute_result"
    }
   ],
   "source": [
    "#display the confusion matrix and classification report\n",
    "confusion_matrix(y_train, y_train_pred)"
   ]
  },
  {
   "cell_type": "code",
   "execution_count": 53,
   "metadata": {},
   "outputs": [
    {
     "data": {
      "text/plain": [
       "'              precision    recall  f1-score   support\\n\\n           0       0.82      0.90      0.86     11504\\n           1       0.58      0.41      0.48      3822\\n\\n    accuracy                           0.78     15326\\n   macro avg       0.70      0.66      0.67     15326\\nweighted avg       0.76      0.78      0.77     15326\\n'"
      ]
     },
     "execution_count": 53,
     "metadata": {},
     "output_type": "execute_result"
    }
   ],
   "source": [
    "classification_report(y_train,y_train_pred) #precision=0.58; recall=0.48; i think we prefer higher recall here, would rather have false positives than "
   ]
  },
  {
   "cell_type": "code",
   "execution_count": 72,
   "metadata": {},
   "outputs": [
    {
     "name": "stdout",
     "output_type": "stream",
     "text": [
      "Precision Score: 0.50\n",
      "   Recall Score: 0.35\n",
      "       F1 Score: 0.41\n"
     ]
    }
   ],
   "source": [
    "#calculate measures\n",
    "print(\"Precision Score: {:.2f}\".format( precision_score(y_train, y_train_pred) ) )\n",
    "print(\"   Recall Score: {:.2f}\".format( recall_score(y_train, y_train_pred) ) )\n",
    "print(\"       F1 Score: {:.2f}\".format( f1_score(y_train, y_train_pred) ) )"
   ]
  },
  {
   "cell_type": "code",
   "execution_count": 55,
   "metadata": {},
   "outputs": [
    {
     "data": {
      "text/plain": [
       "0.7789665970772442"
      ]
     },
     "execution_count": 55,
     "metadata": {},
     "output_type": "execute_result"
    }
   ],
   "source": [
    "#see how well the model performs on the test data set\n",
    "y_pred = sgd_clf.predict(x_test)\n",
    "accuracy_score(y_pred, y_test)"
   ]
  },
  {
   "cell_type": "code",
   "execution_count": 56,
   "metadata": {},
   "outputs": [
    {
     "name": "stdout",
     "output_type": "stream",
     "text": [
      "Precision Score: 0.39\n",
      "   Recall Score: 0.58\n",
      "       F1 Score: 0.47\n"
     ]
    }
   ],
   "source": [
    "#calculate measures\n",
    "print(\"Precision Score: {:.2f}\".format( precision_score(y_pred, y_test) ) )\n",
    "print(\"   Recall Score: {:.2f}\".format( recall_score(y_pred, y_test) ) )\n",
    "print(\"       F1 Score: {:.2f}\".format( f1_score(y_pred, y_test) ) )"
   ]
  },
  {
   "cell_type": "code",
   "execution_count": 57,
   "metadata": {},
   "outputs": [],
   "source": [
    "data_pred_sgd=sgd_clf.predict(data_pred) #how to predict using model?"
   ]
  },
  {
   "cell_type": "code",
   "execution_count": 58,
   "metadata": {},
   "outputs": [
    {
     "name": "stdout",
     "output_type": "stream",
     "text": [
      "Person 0 is a target\n",
      "Person 1 is not a target\n",
      "Person 2 is not a target\n"
     ]
    }
   ],
   "source": [
    "for x in range(3):\n",
    "    if data_pred_sgd[x]==1:\n",
    "        print(\"Person {} is a target\".format(x))\n",
    "    else: \n",
    "        print(\"Person {} is not a target\".format(x))"
   ]
  },
  {
   "cell_type": "markdown",
   "metadata": {},
   "source": [
    "# Random Forest"
   ]
  },
  {
   "cell_type": "code",
   "execution_count": 59,
   "metadata": {},
   "outputs": [
    {
     "data": {
      "text/plain": [
       "RandomForestClassifier(random_state=42)"
      ]
     },
     "execution_count": 59,
     "metadata": {},
     "output_type": "execute_result"
    }
   ],
   "source": [
    "#create the classification model\n",
    "forest_clf = RandomForestClassifier(n_estimators=100, random_state=42)\n",
    "\n",
    "#fit the model using the training data set\n",
    "forest_clf.fit(x_train, y_train)"
   ]
  },
  {
   "cell_type": "code",
   "execution_count": 60,
   "metadata": {},
   "outputs": [
    {
     "data": {
      "text/plain": [
       "0.7518594190452779"
      ]
     },
     "execution_count": 60,
     "metadata": {},
     "output_type": "execute_result"
    }
   ],
   "source": [
    "#see how well the model peforms across a variety of cross sections\n",
    "score = cross_val_score(forest_clf, x_train, y_train, cv=5, scoring=\"accuracy\")\n",
    "np.mean(score)"
   ]
  },
  {
   "cell_type": "code",
   "execution_count": 61,
   "metadata": {},
   "outputs": [],
   "source": [
    "#get predictions aross 3 different folds using the default method (prediction scores)\n",
    "y_train_pred = cross_val_predict(forest_clf, x_train, y_train, cv=5)"
   ]
  },
  {
   "cell_type": "code",
   "execution_count": 62,
   "metadata": {},
   "outputs": [
    {
     "data": {
      "text/plain": [
       "array([[10185,  1319],\n",
       "       [ 2484,  1338]], dtype=int64)"
      ]
     },
     "execution_count": 62,
     "metadata": {},
     "output_type": "execute_result"
    }
   ],
   "source": [
    "#display the confusion matrix; do the same w test?\n",
    "confusion_matrix(y_train, y_train_pred)"
   ]
  },
  {
   "cell_type": "code",
   "execution_count": 63,
   "metadata": {},
   "outputs": [
    {
     "name": "stdout",
     "output_type": "stream",
     "text": [
      "Precision Score: 0.50\n",
      "   Recall Score: 0.35\n",
      "       F1 Score: 0.41\n"
     ]
    }
   ],
   "source": [
    "#calculate measures\n",
    "print(\"Precision Score: {:.2f}\".format( precision_score(y_train, y_train_pred) ) )\n",
    "print(\"   Recall Score: {:.2f}\".format( recall_score(y_train, y_train_pred) ) )\n",
    "print(\"       F1 Score: {:.2f}\".format( f1_score(y_train, y_train_pred) ) )"
   ]
  },
  {
   "cell_type": "code",
   "execution_count": 64,
   "metadata": {},
   "outputs": [
    {
     "data": {
      "text/plain": [
       "0.7468684759916493"
      ]
     },
     "execution_count": 64,
     "metadata": {},
     "output_type": "execute_result"
    }
   ],
   "source": [
    "#see how well the model performs on the test data set\n",
    "y_pred = forest_clf.predict(x_test)\n",
    "accuracy_score(y_pred, y_test)"
   ]
  },
  {
   "cell_type": "code",
   "execution_count": 65,
   "metadata": {},
   "outputs": [
    {
     "name": "stdout",
     "output_type": "stream",
     "text": [
      "Precision Score: 0.33\n",
      "   Recall Score: 0.49\n",
      "       F1 Score: 0.39\n"
     ]
    }
   ],
   "source": [
    "#calculate measures\n",
    "print(\"Precision Score: {:.2f}\".format( precision_score(y_pred, y_test) ) )\n",
    "print(\"   Recall Score: {:.2f}\".format( recall_score(y_pred, y_test) ) )\n",
    "print(\"       F1 Score: {:.2f}\".format( f1_score(y_pred, y_test) ) )"
   ]
  },
  {
   "cell_type": "code",
   "execution_count": 66,
   "metadata": {},
   "outputs": [
    {
     "data": {
      "text/html": [
       "<div>\n",
       "<style scoped>\n",
       "    .dataframe tbody tr th:only-of-type {\n",
       "        vertical-align: middle;\n",
       "    }\n",
       "\n",
       "    .dataframe tbody tr th {\n",
       "        vertical-align: top;\n",
       "    }\n",
       "\n",
       "    .dataframe thead th {\n",
       "        text-align: right;\n",
       "    }\n",
       "</style>\n",
       "<table border=\"1\" class=\"dataframe\">\n",
       "  <thead>\n",
       "    <tr style=\"text-align: right;\">\n",
       "      <th></th>\n",
       "      <th>RandomForest</th>\n",
       "    </tr>\n",
       "  </thead>\n",
       "  <tbody>\n",
       "    <tr>\n",
       "      <th>1</th>\n",
       "      <td>0.363628</td>\n",
       "    </tr>\n",
       "    <tr>\n",
       "      <th>2</th>\n",
       "      <td>0.171695</td>\n",
       "    </tr>\n",
       "    <tr>\n",
       "      <th>0</th>\n",
       "      <td>0.097687</td>\n",
       "    </tr>\n",
       "    <tr>\n",
       "      <th>3</th>\n",
       "      <td>0.075124</td>\n",
       "    </tr>\n",
       "    <tr>\n",
       "      <th>68</th>\n",
       "      <td>0.046654</td>\n",
       "    </tr>\n",
       "    <tr>\n",
       "      <th>...</th>\n",
       "      <td>...</td>\n",
       "    </tr>\n",
       "    <tr>\n",
       "      <th>112</th>\n",
       "      <td>0.000068</td>\n",
       "    </tr>\n",
       "    <tr>\n",
       "      <th>115</th>\n",
       "      <td>0.000048</td>\n",
       "    </tr>\n",
       "    <tr>\n",
       "      <th>31</th>\n",
       "      <td>0.000039</td>\n",
       "    </tr>\n",
       "    <tr>\n",
       "      <th>66</th>\n",
       "      <td>0.000029</td>\n",
       "    </tr>\n",
       "    <tr>\n",
       "      <th>96</th>\n",
       "      <td>0.000012</td>\n",
       "    </tr>\n",
       "  </tbody>\n",
       "</table>\n",
       "<p>133 rows × 1 columns</p>\n",
       "</div>"
      ],
      "text/plain": [
       "     RandomForest\n",
       "1        0.363628\n",
       "2        0.171695\n",
       "0        0.097687\n",
       "3        0.075124\n",
       "68       0.046654\n",
       "..            ...\n",
       "112      0.000068\n",
       "115      0.000048\n",
       "31       0.000039\n",
       "66       0.000029\n",
       "96       0.000012\n",
       "\n",
       "[133 rows x 1 columns]"
      ]
     },
     "execution_count": 66,
     "metadata": {},
     "output_type": "execute_result"
    }
   ],
   "source": [
    "#create a dataframe that has the feature importance\n",
    "feature_importance=pd.DataFrame({\n",
    "    'RandomForest':forest_clf.feature_importances_,\n",
    "})\n",
    "\n",
    "#sort the features\n",
    "feature_importance.sort_values(by='RandomForest',ascending=False,inplace=True)\n",
    "feature_importance"
   ]
  },
  {
   "cell_type": "code",
   "execution_count": 67,
   "metadata": {},
   "outputs": [
    {
     "data": {
      "text/html": [
       "<div>\n",
       "<style scoped>\n",
       "    .dataframe tbody tr th:only-of-type {\n",
       "        vertical-align: middle;\n",
       "    }\n",
       "\n",
       "    .dataframe tbody tr th {\n",
       "        vertical-align: top;\n",
       "    }\n",
       "\n",
       "    .dataframe thead th {\n",
       "        text-align: right;\n",
       "    }\n",
       "</style>\n",
       "<table border=\"1\" class=\"dataframe\">\n",
       "  <thead>\n",
       "    <tr style=\"text-align: right;\">\n",
       "      <th></th>\n",
       "      <th>RandomForest</th>\n",
       "    </tr>\n",
       "  </thead>\n",
       "  <tbody>\n",
       "    <tr>\n",
       "      <th>1</th>\n",
       "      <td>0.363628</td>\n",
       "    </tr>\n",
       "    <tr>\n",
       "      <th>2</th>\n",
       "      <td>0.171695</td>\n",
       "    </tr>\n",
       "    <tr>\n",
       "      <th>0</th>\n",
       "      <td>0.097687</td>\n",
       "    </tr>\n",
       "    <tr>\n",
       "      <th>3</th>\n",
       "      <td>0.075124</td>\n",
       "    </tr>\n",
       "    <tr>\n",
       "      <th>68</th>\n",
       "      <td>0.046654</td>\n",
       "    </tr>\n",
       "    <tr>\n",
       "      <th>5</th>\n",
       "      <td>0.032694</td>\n",
       "    </tr>\n",
       "    <tr>\n",
       "      <th>4</th>\n",
       "      <td>0.031504</td>\n",
       "    </tr>\n",
       "    <tr>\n",
       "      <th>6</th>\n",
       "      <td>0.024066</td>\n",
       "    </tr>\n",
       "    <tr>\n",
       "      <th>132</th>\n",
       "      <td>0.009168</td>\n",
       "    </tr>\n",
       "    <tr>\n",
       "      <th>12</th>\n",
       "      <td>0.007319</td>\n",
       "    </tr>\n",
       "  </tbody>\n",
       "</table>\n",
       "</div>"
      ],
      "text/plain": [
       "     RandomForest\n",
       "1        0.363628\n",
       "2        0.171695\n",
       "0        0.097687\n",
       "3        0.075124\n",
       "68       0.046654\n",
       "5        0.032694\n",
       "4        0.031504\n",
       "6        0.024066\n",
       "132      0.009168\n",
       "12       0.007319"
      ]
     },
     "execution_count": 67,
     "metadata": {},
     "output_type": "execute_result"
    }
   ],
   "source": [
    "fi = feature_importance[:10]\n",
    "fi"
   ]
  },
  {
   "cell_type": "code",
   "execution_count": 68,
   "metadata": {},
   "outputs": [
    {
     "data": {
      "image/png": "[encoded data removed]",
      "text/plain": [
       "<Figure size 1296x576 with 1 Axes>"
      ]
     },
     "metadata": {
      "needs_background": "light"
     },
     "output_type": "display_data"
    }
   ],
   "source": [
    "#graph the top features\n",
    "index = np.arange(len(fi))\n",
    "fig, ax = plt.subplots(figsize=(18,8))\n",
    "rfc_feature=ax.barh(index,fi['RandomForest'],0.4,color='purple',label='Random Forest')\n",
    "#dt_feature=ax.barh(index+0.4,fi['DecisionTree'],0.4,color='lightgreen',label='Decision Tree')\n",
    "ax.set(yticks=index+0.4,yticklabels=fi.index)\n",
    "\n",
    "ax.legend()\n",
    "plt.show()"
   ]
  },
  {
   "cell_type": "code",
   "execution_count": 69,
   "metadata": {},
   "outputs": [],
   "source": [
    "data_pred_forest=forest_clf.predict(data_pred)"
   ]
  },
  {
   "cell_type": "code",
   "execution_count": 70,
   "metadata": {},
   "outputs": [
    {
     "name": "stdout",
     "output_type": "stream",
     "text": [
      "Person 0 is a target\n",
      "Person 1 is not a taregt\n",
      "Person 2 is not a taregt\n"
     ]
    }
   ],
   "source": [
    "for x in range(3):\n",
    "    if data_pred_forest[x]==1:\n",
    "        print(\"Person {} is a target\".format(x))\n",
    "    else: \n",
    "        print(\"Person {} is not a taregt\".format(x))"
   ]
  },
  {
   "cell_type": "code",
   "execution_count": null,
   "metadata": {},
   "outputs": [],
   "source": []
  }
 ],
 "metadata": {
  "kernelspec": {
   "display_name": "Python 3",
   "language": "python",
   "name": "python3"
  },
  "language_info": {
   "codemirror_mode": {
    "name": "ipython",
    "version": 3
   },
   "file_extension": ".py",
   "mimetype": "text/x-python",
   "name": "python",
   "nbconvert_exporter": "python",
   "pygments_lexer": "ipython3",
   "version": "3.8.3"
  }
 },
 "nbformat": 4,
 "nbformat_minor": 4
}
